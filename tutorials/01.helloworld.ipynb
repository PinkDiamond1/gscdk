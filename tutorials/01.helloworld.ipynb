{
 "cells": [
  {
   "cell_type": "code",
   "execution_count": 5,
   "metadata": {},
   "outputs": [],
   "source": [
    "import init\n",
    "from pyeoskit import eosapi\n",
    "init.init()\n",
    "test_account1 = init.test_account1"
   ]
  },
  {
   "cell_type": "code",
   "execution_count": 2,
   "metadata": {},
   "outputs": [
    {
     "name": "stdout",
     "output_type": "stream",
     "text": [
      "done!\n"
     ]
    }
   ],
   "source": [
    "code = r'''\n",
    "package main\n",
    "\n",
    "import (\n",
    "    \"github.com/uuosio/chain\"\n",
    ")\n",
    "\n",
    "//contract hello\n",
    "type MyContract struct {\n",
    "    Receiver      chain.Name\n",
    "    FirstReceiver chain.Name\n",
    "    Action        chain.Name\n",
    "}\n",
    "\n",
    "func NewContract(receiver, firstReceiver, action chain.Name) *MyContract {\n",
    "    return &MyContract{receiver, firstReceiver, action}\n",
    "}\n",
    "\n",
    "//action sayhello\n",
    "func (c *MyContract) SayHello(name string) {\n",
    "    chain.Println(\"Hello\", name)\n",
    "}\n",
    "'''\n",
    "code, abi = eosapi.compile('hello', code, src_type=2)\n",
    "print('done!')"
   ]
  },
  {
   "cell_type": "code",
   "execution_count": 3,
   "metadata": {
    "scrolled": true
   },
   "outputs": [
    {
     "name": "stdout",
     "output_type": "stream",
     "text": [
      "done!\n"
     ]
    }
   ],
   "source": [
    "eosapi.deploy_contract(test_account1, code, abi, vm_type=0)\n",
    "print('done!')"
   ]
  },
  {
   "cell_type": "code",
   "execution_count": 4,
   "metadata": {},
   "outputs": [
    {
     "name": "stdout",
     "output_type": "stream",
     "text": [
      "Hello alice\n",
      "\n",
      "1116\n"
     ]
    }
   ],
   "source": [
    "r = eosapi.push_action(test_account1, 'sayhello', {'name': 'alice'}, {test_account1:'active'})\n",
    "print(r['processed']['action_traces'][0]['console'])\n",
    "print(r['processed']['elapsed'])"
   ]
  }
 ],
 "metadata": {
  "kernelspec": {
   "display_name": "Python 3 (ipykernel)",
   "language": "python",
   "name": "python3"
  },
  "language_info": {
   "codemirror_mode": {
    "name": "ipython",
    "version": 3
   },
   "file_extension": ".py",
   "mimetype": "text/x-python",
   "name": "python",
   "nbconvert_exporter": "python",
   "pygments_lexer": "ipython3",
   "version": "3.9.5"
  }
 },
 "nbformat": 4,
 "nbformat_minor": 2
}
