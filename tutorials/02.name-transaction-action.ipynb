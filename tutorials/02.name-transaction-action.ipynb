{
 "cells": [
  {
   "cell_type": "markdown",
   "metadata": {},
   "source": [
    "### EOSIO account name/authority name/table name\n",
    "\n",
    "- > The account name consists of up to 12 characters, and the permission name/table name is up to 13 characters\n",
    "\n",
    "- > Allowed characters: .12345abcdefghijklmnopqrstuvwxyz\n",
    "\n",
    "- > The account name will be converted into a 64-bit unsigned integer"
   ]
  },
  {
   "cell_type": "markdown",
   "metadata": {},
   "source": [
    "[libraries/chain/include/eosio/chain/name.hpp](https://github.com/EOSIO/eos/blob/5082391c60b0fa5e68157c385cd402bf25aea934/libraries/chain/include/eosio/chain/name.hpp#L42)"
   ]
  },
  {
   "cell_type": "markdown",
   "metadata": {},
   "source": [
    "```c++\n",
    "   struct name {\n",
    "      uint64_t value = 0;\n",
    "      bool empty()const { return 0 == value; }\n",
    "      bool good()const  { return !empty();   }\n",
    "\n",
    "      name( const char* str )   { set(str);           } \n",
    "      name( const string& str ) { set( str.c_str() ); }\n",
    "...\n",
    "   }\n",
    "```"
   ]
  },
  {
   "cell_type": "markdown",
   "metadata": {},
   "source": [
    "[libraries/chain/include/eosio/chain/types.hpp](https://github.com/EOSIO/eos/blob/5082391c60b0fa5e68157c385cd402bf25aea934/libraries/chain/include/eosio/chain/types.hpp#L133)"
   ]
  },
  {
   "cell_type": "markdown",
   "metadata": {},
   "source": [
    "```c++\n",
    "   using action_name      = name;\n",
    "   using scope_name       = name;\n",
    "   using account_name     = name;\n",
    "   using permission_name  = name;\n",
    "   using table_name       = name;\n",
    "```"
   ]
  },
  {
   "cell_type": "markdown",
   "metadata": {},
   "source": [
    "[libraries/chain/include/eosio/chain/transaction.hpp](https://github.com/EOSIO/eos/blob/5082391c60b0fa5e68157c385cd402bf25aea934/libraries/chain/include/eosio/chain/transaction.hpp#L30)\n"
   ]
  },
  {
   "cell_type": "markdown",
   "metadata": {},
   "source": [
    "```c++\n",
    "struct transaction_header {\n",
    "      time_point_sec         expiration;   ///< the time at which a transaction expires\n",
    "      uint16_t               ref_block_num       = 0U; ///< specifies a block num in the last 2^16 blocks.\n",
    "      uint32_t               ref_block_prefix    = 0UL; ///< specifies the lower 32 bits of the blockid at get_ref_blocknum\n",
    "      fc::unsigned_int       max_net_usage_words = 0UL; /// upper limit on total network bandwidth (in 8 byte words) billed for this transaction\n",
    "      uint8_t                max_cpu_usage_ms    = 0; /// upper limit on the total CPU time billed for this transaction\n",
    "      fc::unsigned_int       delay_sec           = 0UL; /// number of seconds to delay this transaction for during which it may be canceled.\n",
    "\n",
    "...\n",
    "   };\n",
    "\n",
    "   struct transaction : public transaction_header {\n",
    "      vector<action>         context_free_actions;\n",
    "      vector<action>         actions;\n",
    "      extensions_type        transaction_extensions;\n",
    "...\n",
    "   };\n",
    "```"
   ]
  },
  {
   "cell_type": "markdown",
   "metadata": {},
   "source": [
    "[libraries/chain/include/eosio/chain/action.hpp](https://github.com/EOSIO/eos/blob/5082391c60b0fa5e68157c385cd402bf25aea934/libraries/chain/include/eosio/chain/action.hpp#L60)"
   ]
  },
  {
   "cell_type": "markdown",
   "metadata": {},
   "source": [
    "```c++\n",
    "   struct action {\n",
    "      account_name               account;\n",
    "      action_name                name;\n",
    "      vector<permission_level>   authorization;\n",
    "      bytes                      data;\n",
    "...\n",
    "   }\n",
    "```"
   ]
  },
  {
   "cell_type": "code",
   "execution_count": 5,
   "metadata": {},
   "outputs": [
    {
     "name": "stderr",
     "output_type": "stream",
     "text": [
      "2021-11-14 09:50:13,586 INFO http_client 208 non ok response: 403\n"
     ]
    },
    {
     "ename": "ChainException",
     "evalue": "<!DOCTYPE HTML>\n<html>\n\n<head>\n    <meta charset=\"utf-8\">\n\n    <title>Jupyter Notebook</title>\n    <link id=\"favicon\" rel=\"shortcut icon\" type=\"image/x-icon\" href=\"/static/base/images/favicon.ico?v=50afa725b5de8b00030139d09b38620224d4e7dba47c07ef0e86d4643f30c9bfe6bb7e1a4a1c561aa32834480909a4b6fe7cd1e17f7159330b6b5914bf45a880\">\n    <meta http-equiv=\"X-UA-Compatible\" content=\"IE=edge\" />\n    <link rel=\"stylesheet\" href=\"/static/components/jquery-ui/themes/smoothness/jquery-ui.min.css?v=fb45616eef2c454960f91fcd2a04efeda84cfacccf0c5d741ba2793dc1dbd6d3ab01aaae6485222945774c7d7a9a2e9fb87e0d8ef1ea96893aa6906147a371bb\" type=\"text/css\" />\n    <link rel=\"stylesheet\" href=\"/static/components/jquery-typeahead/dist/jquery.typeahead.min.css?v=5edf53bf6bb9c3b1ddafd8594825a7e2ed621f19423e569c985162742f63911c09eba2c529f8fb47aebf27fafdfe287d563347f58c1126b278189a18871b6a9a\" type=\"text/css\" />\n    <meta name=\"viewport\" content=\"width=device-width, initial-scale=1.0\">\n    \n    \n\n    <link rel=\"stylesheet\" href=\"/static/style/style.min.css?v=b092d0a2da5df36f2b073ddb4eafcd6c8094c4fa21b6dcd3f7185ce16c04ad66424083d785b81607a26b4b85b69a560574ada7db75262c886655f99d651c482e\" type=\"text/css\"/>\n    \n<style type=\"text/css\">\n/* disable initial hide */\ndiv#header, div#site {\n    display: block;\n}\n</style>\n\n    <link rel=\"stylesheet\" href=\"/custom/custom.css\" type=\"text/css\" />\n    <script src=\"/static/components/es6-promise/promise.min.js?v=bea335d74136a63ae1b5130f5ac9a50c6256a5f435e6e09fef599491a84d834a8b0f011ca3eaaca3b4ab6a2da2d3e1191567a2f171e60da1d10e5b9d52f84184\" type=\"text/javascript\" charset=\"utf-8\"></script>\n    <script src=\"/static/components/react/react.production.min.js?v=9a0aaf84a316c8bedd6c2ff7d5b5e0a13f8f84ec02442346cba0b842c6c81a6bf6176e64f3675c2ebf357cb5bb048e0b527bd39377c95681d22468da3d5de735\" type=\"text/javascript\"></script>\n    <script src=\"/static/components/react/react-dom.production.min.js?v=6fc58c1c4736868ff84f57bd8b85f2bdb985993a9392718f3b4af4bfa10fb4efba2b4ddd68644bd2a8daf0619a3844944c9c43f8528364a1aa6fc01ec1b8ae84\" type=\"text/javascript\"></script>\n    <script src=\"/static/components/create-react-class/index.js?v=894ad57246e682b4cfbe7cd5e408dcd6b38d06af4de4f3425991e2676fdc2ef1732cbd19903104198878ae77de12a1996de3e7da3a467fb226bdda8f4618faec\" type=\"text/javascript\"></script>\n    <script src=\"/static/components/requirejs/require.js?v=d37b48bb2137faa0ab98157e240c084dd5b1b5e74911723aa1d1f04c928c2a03dedf922d049e4815f7e5a369faa2e6b6a1000aae958b7953b5cc60411154f593\" type=\"text/javascript\" charset=\"utf-8\"></script>\n    <script>\n      require.config({\n          \n          urlArgs: \"v=20211114094732\",\n          \n          baseUrl: '/static/',\n          paths: {\n            'auth/js/main': 'auth/js/main.min',\n            custom : '/custom',\n            nbextensions : '/nbextensions',\n            kernelspecs : '/kernelspecs',\n            underscore : 'components/underscore/underscore-min',\n            backbone : 'components/backbone/backbone-min',\n            jed: 'components/jed/jed',\n            jquery: 'components/jquery/jquery.min',\n            json: 'components/requirejs-plugins/src/json',\n            text: 'components/requirejs-text/text',\n            bootstrap: 'components/bootstrap/dist/js/bootstrap.min',\n            bootstraptour: 'components/bootstrap-tour/build/js/bootstrap-tour.min',\n            'jquery-ui': 'components/jquery-ui/jquery-ui.min',\n            moment: 'components/moment/min/moment-with-locales',\n            codemirror: 'components/codemirror',\n            termjs: 'components/xterm.js/xterm',\n            typeahead: 'components/jquery-typeahead/dist/jquery.typeahead.min',\n          },\n          map: { // for backward compatibility\n              \"*\": {\n                  \"jqueryui\": \"jquery-ui\",\n              }\n          },\n          shim: {\n            typeahead: {\n              deps: [\"jquery\"],\n              exports: \"typeahead\"\n            },\n            underscore: {\n              exports: '_'\n            },\n            backbone: {\n              deps: [\"underscore\", \"jquery\"],\n              exports: \"Backbone\"\n            },\n            bootstrap: {\n              deps: [\"jquery\"],\n              exports: \"bootstrap\"\n            },\n            bootstraptour: {\n              deps: [\"bootstrap\"],\n              exports: \"Tour\"\n            },\n            \"jquery-ui\": {\n              deps: [\"jquery\"],\n              exports: \"$\"\n            }\n          },\n          waitSeconds: 30,\n      });\n\n      require.config({\n          map: {\n              '*':{\n                'contents': 'services/contents',\n              }\n          }\n      });\n\n      // error-catching custom.js shim.\n      define(\"custom\", function (require, exports, module) {\n          try {\n              var custom = require('custom/custom');\n              console.debug('loaded custom.js');\n              return custom;\n          } catch (e) {\n              console.error(\"error loading custom.js\", e);\n              return {};\n          }\n      })\n\n    document.nbjs_translations = {\"domain\": \"nbjs\", \"locale_data\": {\"nbjs\": {\"\": {\"domain\": \"nbjs\"}}}};\n    document.documentElement.lang = navigator.language.toLowerCase();\n    </script>\n\n    \n    \n\n</head>\n\n<body class=\"\"\n \n  \n \ndir=\"ltr\">\n\n<noscript>\n    <div id='noscript'>\n      Jupyter Notebook requires JavaScript.<br>\n      Please enable it to proceed. \n  </div>\n</noscript>\n\n<div id=\"header\" role=\"navigation\" aria-label=\"Top Menu\">\n  <div id=\"header-container\" class=\"container\">\n  <div id=\"ipython_notebook\" class=\"nav navbar-brand\"><a href=\"/tree\" title='dashboard'>\n      <img src='/static/base/images/logo.png?v=a2a176ee3cee251ffddf5fa21fe8e43727a9e5f87a06f9c91ad7b776d9e9d3d5e0159c16cc188a3965e00375fb4bc336c16067c688f5040c0c2d4bfdb852a9e4' alt='Jupyter Notebook'/>\n  </a></div>\n\n  \n  \n  \n  \n  \n  \n\n\n  \n  \n  </div>\n  <div class=\"header-bar\"></div>\n\n  \n  \n</div>\n\n<div id=\"site\">\n\n\n<div class=\"error\">\n    \n    <h1>403 : Forbidden</h1>\n    \n    \n    \n    <p>The error was:</p>\n    <div class=\"traceback-wrapper\">\n    <pre class=\"traceback\">&#39;_xsrf&#39; argument missing from POST</pre>\n    </div>\n    \n    \n</div>\n\n\n</div>\n\n\n\n\n\n\n\n<script type='text/javascript'>\nrequire(['jquery'], function($) {\n  // scroll long tracebacks to the bottom\n  var tb = $(\".traceback\")[0];\n  tb.scrollTop = tb.scrollHeight;\n});\n</script>\n\n\n<script type='text/javascript'>\n  function _remove_token_from_url() {\n    if (window.location.search.length <= 1) {\n      return;\n    }\n    var search_parameters = window.location.search.slice(1).split('&');\n    for (var i = 0; i < search_parameters.length; i++) {\n      if (search_parameters[i].split('=')[0] === 'token') {\n        // remote token from search parameters\n        search_parameters.splice(i, 1);\n        var new_search = '';\n        if (search_parameters.length) {\n          new_search = '?' + search_parameters.join('&');\n        }\n        var new_url = window.location.origin + \n                      window.location.pathname + \n                      new_search + \n                      window.location.hash;\n        window.history.replaceState({}, \"\", new_url);\n        return;\n      }\n    }\n  }\n  _remove_token_from_url();\n</script>\n</body>\n\n</html>",
     "output_type": "error",
     "traceback": [
      "\u001b[0;31m---------------------------------------------------------------------------\u001b[0m",
      "\u001b[0;31mChainException\u001b[0m                            Traceback (most recent call last)",
      "\u001b[0;32m/var/folders/pv/678xdw3s56xggsvz36r65kzr0000gp/T/ipykernel_23700/1717828674.py\u001b[0m in \u001b[0;36m<module>\u001b[0;34m\u001b[0m\n\u001b[0;32m----> 1\u001b[0;31m \u001b[0muuosapi\u001b[0m\u001b[0;34m.\u001b[0m\u001b[0mget_account\u001b[0m\u001b[0;34m(\u001b[0m\u001b[0mtest_account1\u001b[0m\u001b[0;34m)\u001b[0m\u001b[0;34m\u001b[0m\u001b[0;34m\u001b[0m\u001b[0m\n\u001b[0m",
      "\u001b[0;32m/Library/Frameworks/Python.framework/Versions/3.9/lib/python3.9/site-packages/uuoskit/chainapi_sync.py\u001b[0m in \u001b[0;36mget_account\u001b[0;34m(self, account)\u001b[0m\n\u001b[1;32m    153\u001b[0m             \u001b[0;32mif\u001b[0m \u001b[0me\u001b[0m\u001b[0;34m.\u001b[0m\u001b[0mjson\u001b[0m \u001b[0;32mand\u001b[0m \u001b[0me\u001b[0m\u001b[0;34m.\u001b[0m\u001b[0mjson\u001b[0m\u001b[0;34m[\u001b[0m\u001b[0;34m'error'\u001b[0m\u001b[0;34m]\u001b[0m\u001b[0;34m[\u001b[0m\u001b[0;34m'details'\u001b[0m\u001b[0;34m]\u001b[0m\u001b[0;34m[\u001b[0m\u001b[0;36m0\u001b[0m\u001b[0;34m]\u001b[0m\u001b[0;34m[\u001b[0m\u001b[0;34m'message'\u001b[0m\u001b[0;34m]\u001b[0m\u001b[0;34m.\u001b[0m\u001b[0mstartswith\u001b[0m\u001b[0;34m(\u001b[0m\u001b[0;34m'unknown key'\u001b[0m\u001b[0;34m)\u001b[0m\u001b[0;34m:\u001b[0m\u001b[0;34m\u001b[0m\u001b[0;34m\u001b[0m\u001b[0m\n\u001b[1;32m    154\u001b[0m                 \u001b[0;32mreturn\u001b[0m \u001b[0;32mNone\u001b[0m\u001b[0;34m\u001b[0m\u001b[0;34m\u001b[0m\u001b[0m\n\u001b[0;32m--> 155\u001b[0;31m             \u001b[0;32mraise\u001b[0m \u001b[0me\u001b[0m\u001b[0;34m\u001b[0m\u001b[0;34m\u001b[0m\u001b[0m\n\u001b[0m\u001b[1;32m    156\u001b[0m \u001b[0;34m\u001b[0m\u001b[0m\n\u001b[1;32m    157\u001b[0m     \u001b[0;32mdef\u001b[0m \u001b[0mcreate_account\u001b[0m\u001b[0;34m(\u001b[0m\u001b[0mself\u001b[0m\u001b[0;34m,\u001b[0m \u001b[0mcreator\u001b[0m\u001b[0;34m,\u001b[0m \u001b[0maccount\u001b[0m\u001b[0;34m,\u001b[0m \u001b[0mowner_key\u001b[0m\u001b[0;34m,\u001b[0m \u001b[0mactive_key\u001b[0m\u001b[0;34m,\u001b[0m \u001b[0mram_bytes\u001b[0m\u001b[0;34m=\u001b[0m\u001b[0;36m0\u001b[0m\u001b[0;34m,\u001b[0m \u001b[0mstake_net\u001b[0m\u001b[0;34m=\u001b[0m\u001b[0;36m0.0\u001b[0m\u001b[0;34m,\u001b[0m \u001b[0mstake_cpu\u001b[0m\u001b[0;34m=\u001b[0m\u001b[0;36m0.0\u001b[0m\u001b[0;34m,\u001b[0m \u001b[0msign\u001b[0m\u001b[0;34m=\u001b[0m\u001b[0;32mTrue\u001b[0m\u001b[0;34m)\u001b[0m\u001b[0;34m:\u001b[0m\u001b[0;34m\u001b[0m\u001b[0;34m\u001b[0m\u001b[0m\n",
      "\u001b[0;32m/Library/Frameworks/Python.framework/Versions/3.9/lib/python3.9/site-packages/uuoskit/chainapi_sync.py\u001b[0m in \u001b[0;36mget_account\u001b[0;34m(self, account)\u001b[0m\n\u001b[1;32m    149\u001b[0m             \u001b[0;32mraise\u001b[0m \u001b[0mChainException\u001b[0m\u001b[0;34m(\u001b[0m\u001b[0;34m'Invalid account name'\u001b[0m\u001b[0;34m)\u001b[0m\u001b[0;34m\u001b[0m\u001b[0;34m\u001b[0m\u001b[0m\n\u001b[1;32m    150\u001b[0m         \u001b[0;32mtry\u001b[0m\u001b[0;34m:\u001b[0m\u001b[0;34m\u001b[0m\u001b[0;34m\u001b[0m\u001b[0m\n\u001b[0;32m--> 151\u001b[0;31m             \u001b[0;32mreturn\u001b[0m \u001b[0msuper\u001b[0m\u001b[0;34m(\u001b[0m\u001b[0;34m)\u001b[0m\u001b[0;34m.\u001b[0m\u001b[0mget_account\u001b[0m\u001b[0;34m(\u001b[0m\u001b[0maccount\u001b[0m\u001b[0;34m)\u001b[0m\u001b[0;34m\u001b[0m\u001b[0;34m\u001b[0m\u001b[0m\n\u001b[0m\u001b[1;32m    152\u001b[0m         \u001b[0;32mexcept\u001b[0m \u001b[0mChainException\u001b[0m \u001b[0;32mas\u001b[0m \u001b[0me\u001b[0m\u001b[0;34m:\u001b[0m\u001b[0;34m\u001b[0m\u001b[0;34m\u001b[0m\u001b[0m\n\u001b[1;32m    153\u001b[0m             \u001b[0;32mif\u001b[0m \u001b[0me\u001b[0m\u001b[0;34m.\u001b[0m\u001b[0mjson\u001b[0m \u001b[0;32mand\u001b[0m \u001b[0me\u001b[0m\u001b[0;34m.\u001b[0m\u001b[0mjson\u001b[0m\u001b[0;34m[\u001b[0m\u001b[0;34m'error'\u001b[0m\u001b[0;34m]\u001b[0m\u001b[0;34m[\u001b[0m\u001b[0;34m'details'\u001b[0m\u001b[0;34m]\u001b[0m\u001b[0;34m[\u001b[0m\u001b[0;36m0\u001b[0m\u001b[0;34m]\u001b[0m\u001b[0;34m[\u001b[0m\u001b[0;34m'message'\u001b[0m\u001b[0;34m]\u001b[0m\u001b[0;34m.\u001b[0m\u001b[0mstartswith\u001b[0m\u001b[0;34m(\u001b[0m\u001b[0;34m'unknown key'\u001b[0m\u001b[0;34m)\u001b[0m\u001b[0;34m:\u001b[0m\u001b[0;34m\u001b[0m\u001b[0;34m\u001b[0m\u001b[0m\n",
      "\u001b[0;32m/Library/Frameworks/Python.framework/Versions/3.9/lib/python3.9/site-packages/uuoskit/rpc_interface.py\u001b[0m in \u001b[0;36mget_account\u001b[0;34m(self, account_name)\u001b[0m\n\u001b[1;32m    134\u001b[0m         )\n\u001b[1;32m    135\u001b[0m \u001b[0;34m\u001b[0m\u001b[0m\n\u001b[0;32m--> 136\u001b[0;31m         return self.rpc_request(\n\u001b[0m\u001b[1;32m    137\u001b[0m             \u001b[0mapi\u001b[0m\u001b[0;34m=\u001b[0m\u001b[0;34m'chain'\u001b[0m\u001b[0;34m,\u001b[0m\u001b[0;34m\u001b[0m\u001b[0;34m\u001b[0m\u001b[0m\n\u001b[1;32m    138\u001b[0m             \u001b[0mendpoint\u001b[0m\u001b[0;34m=\u001b[0m\u001b[0;34m'get_account'\u001b[0m\u001b[0;34m,\u001b[0m\u001b[0;34m\u001b[0m\u001b[0;34m\u001b[0m\u001b[0m\n",
      "\u001b[0;32m/Library/Frameworks/Python.framework/Versions/3.9/lib/python3.9/site-packages/uuoskit/http_client.py\u001b[0m in \u001b[0;36mrpc_request\u001b[0;34m(self, api, endpoint, body)\u001b[0m\n\u001b[1;32m    125\u001b[0m             \u001b[0;32mreturn\u001b[0m \u001b[0mself\u001b[0m\u001b[0;34m.\u001b[0m\u001b[0masync_exec\u001b[0m\u001b[0;34m(\u001b[0m\u001b[0mapi\u001b[0m\u001b[0;34m,\u001b[0m \u001b[0mendpoint\u001b[0m\u001b[0;34m,\u001b[0m \u001b[0mbody\u001b[0m\u001b[0;34m)\u001b[0m\u001b[0;34m\u001b[0m\u001b[0;34m\u001b[0m\u001b[0m\n\u001b[1;32m    126\u001b[0m         \u001b[0;32melse\u001b[0m\u001b[0;34m:\u001b[0m\u001b[0;34m\u001b[0m\u001b[0;34m\u001b[0m\u001b[0m\n\u001b[0;32m--> 127\u001b[0;31m             \u001b[0;32mreturn\u001b[0m \u001b[0mself\u001b[0m\u001b[0;34m.\u001b[0m\u001b[0msync_exec\u001b[0m\u001b[0;34m(\u001b[0m\u001b[0mapi\u001b[0m\u001b[0;34m,\u001b[0m \u001b[0mendpoint\u001b[0m\u001b[0;34m,\u001b[0m \u001b[0mbody\u001b[0m\u001b[0;34m)\u001b[0m\u001b[0;34m\u001b[0m\u001b[0;34m\u001b[0m\u001b[0m\n\u001b[0m\u001b[1;32m    128\u001b[0m \u001b[0;34m\u001b[0m\u001b[0m\n\u001b[1;32m    129\u001b[0m     \u001b[0;32mdef\u001b[0m \u001b[0msync_exec\u001b[0m\u001b[0;34m(\u001b[0m\u001b[0mself\u001b[0m\u001b[0;34m,\u001b[0m \u001b[0mapi\u001b[0m\u001b[0;34m,\u001b[0m \u001b[0mendpoint\u001b[0m\u001b[0;34m,\u001b[0m \u001b[0mbody\u001b[0m\u001b[0;34m=\u001b[0m\u001b[0;32mNone\u001b[0m\u001b[0;34m)\u001b[0m\u001b[0;34m:\u001b[0m\u001b[0;34m\u001b[0m\u001b[0;34m\u001b[0m\u001b[0m\n",
      "\u001b[0;32m/Library/Frameworks/Python.framework/Versions/3.9/lib/python3.9/site-packages/uuoskit/http_client.py\u001b[0m in \u001b[0;36msync_exec\u001b[0;34m(self, api, endpoint, body)\u001b[0m\n\u001b[1;32m    166\u001b[0m                 \u001b[0;32mraise\u001b[0m \u001b[0me\u001b[0m\u001b[0;34m\u001b[0m\u001b[0;34m\u001b[0m\u001b[0m\n\u001b[1;32m    167\u001b[0m             \u001b[0;32melse\u001b[0m\u001b[0;34m:\u001b[0m\u001b[0;34m\u001b[0m\u001b[0;34m\u001b[0m\u001b[0m\n\u001b[0;32m--> 168\u001b[0;31m                 \u001b[0mret\u001b[0m \u001b[0;34m=\u001b[0m \u001b[0mself\u001b[0m\u001b[0;34m.\u001b[0m\u001b[0m_return\u001b[0m\u001b[0;34m(\u001b[0m\u001b[0mresponse\u001b[0m\u001b[0;34m=\u001b[0m\u001b[0mresponse\u001b[0m\u001b[0;34m,\u001b[0m \u001b[0mbody\u001b[0m\u001b[0;34m=\u001b[0m\u001b[0mbody\u001b[0m\u001b[0;34m)\u001b[0m\u001b[0;34m\u001b[0m\u001b[0;34m\u001b[0m\u001b[0m\n\u001b[0m\u001b[1;32m    169\u001b[0m                 \u001b[0;32mreturn\u001b[0m \u001b[0mret\u001b[0m\u001b[0;34m\u001b[0m\u001b[0;34m\u001b[0m\u001b[0m\n\u001b[1;32m    170\u001b[0m \u001b[0;34m\u001b[0m\u001b[0m\n",
      "\u001b[0;32m/Library/Frameworks/Python.framework/Versions/3.9/lib/python3.9/site-packages/uuoskit/http_client.py\u001b[0m in \u001b[0;36m_return\u001b[0;34m(self, response, body)\u001b[0m\n\u001b[1;32m    213\u001b[0m             \u001b[0;32mexcept\u001b[0m \u001b[0mJSONDecodeError\u001b[0m \u001b[0;32mas\u001b[0m \u001b[0me\u001b[0m\u001b[0;34m:\u001b[0m\u001b[0;34m\u001b[0m\u001b[0;34m\u001b[0m\u001b[0m\n\u001b[1;32m    214\u001b[0m                 \u001b[0;32mpass\u001b[0m\u001b[0;34m\u001b[0m\u001b[0;34m\u001b[0m\u001b[0m\n\u001b[0;32m--> 215\u001b[0;31m             \u001b[0;32mraise\u001b[0m \u001b[0mChainException\u001b[0m\u001b[0;34m(\u001b[0m\u001b[0mresult\u001b[0m\u001b[0;34m,\u001b[0m \u001b[0mresponse\u001b[0m\u001b[0;34m.\u001b[0m\u001b[0mstatus\u001b[0m\u001b[0;34m)\u001b[0m\u001b[0;34m\u001b[0m\u001b[0;34m\u001b[0m\u001b[0m\n\u001b[0m\u001b[1;32m    216\u001b[0m         \u001b[0;32mtry\u001b[0m\u001b[0;34m:\u001b[0m\u001b[0;34m\u001b[0m\u001b[0;34m\u001b[0m\u001b[0m\n\u001b[1;32m    217\u001b[0m             \u001b[0;32mif\u001b[0m \u001b[0mself\u001b[0m\u001b[0;34m.\u001b[0m\u001b[0mjson_decode\u001b[0m\u001b[0;34m:\u001b[0m\u001b[0;34m\u001b[0m\u001b[0;34m\u001b[0m\u001b[0m\n",
      "\u001b[0;31mChainException\u001b[0m: <!DOCTYPE HTML>\n<html>\n\n<head>\n    <meta charset=\"utf-8\">\n\n    <title>Jupyter Notebook</title>\n    <link id=\"favicon\" rel=\"shortcut icon\" type=\"image/x-icon\" href=\"/static/base/images/favicon.ico?v=50afa725b5de8b00030139d09b38620224d4e7dba47c07ef0e86d4643f30c9bfe6bb7e1a4a1c561aa32834480909a4b6fe7cd1e17f7159330b6b5914bf45a880\">\n    <meta http-equiv=\"X-UA-Compatible\" content=\"IE=edge\" />\n    <link rel=\"stylesheet\" href=\"/static/components/jquery-ui/themes/smoothness/jquery-ui.min.css?v=fb45616eef2c454960f91fcd2a04efeda84cfacccf0c5d741ba2793dc1dbd6d3ab01aaae6485222945774c7d7a9a2e9fb87e0d8ef1ea96893aa6906147a371bb\" type=\"text/css\" />\n    <link rel=\"stylesheet\" href=\"/static/components/jquery-typeahead/dist/jquery.typeahead.min.css?v=5edf53bf6bb9c3b1ddafd8594825a7e2ed621f19423e569c985162742f63911c09eba2c529f8fb47aebf27fafdfe287d563347f58c1126b278189a18871b6a9a\" type=\"text/css\" />\n    <meta name=\"viewport\" content=\"width=device-width, initial-scale=1.0\">\n    \n    \n\n    <link rel=\"stylesheet\" href=\"/static/style/style.min.css?v=b092d0a2da5df36f2b073ddb4eafcd6c8094c4fa21b6dcd3f7185ce16c04ad66424083d785b81607a26b4b85b69a560574ada7db75262c886655f99d651c482e\" type=\"text/css\"/>\n    \n<style type=\"text/css\">\n/* disable initial hide */\ndiv#header, div#site {\n    display: block;\n}\n</style>\n\n    <link rel=\"stylesheet\" href=\"/custom/custom.css\" type=\"text/css\" />\n    <script src=\"/static/components/es6-promise/promise.min.js?v=bea335d74136a63ae1b5130f5ac9a50c6256a5f435e6e09fef599491a84d834a8b0f011ca3eaaca3b4ab6a2da2d3e1191567a2f171e60da1d10e5b9d52f84184\" type=\"text/javascript\" charset=\"utf-8\"></script>\n    <script src=\"/static/components/react/react.production.min.js?v=9a0aaf84a316c8bedd6c2ff7d5b5e0a13f8f84ec02442346cba0b842c6c81a6bf6176e64f3675c2ebf357cb5bb048e0b527bd39377c95681d22468da3d5de735\" type=\"text/javascript\"></script>\n    <script src=\"/static/components/react/react-dom.production.min.js?v=6fc58c1c4736868ff84f57bd8b85f2bdb985993a9392718f3b4af4bfa10fb4efba2b4ddd68644bd2a8daf0619a3844944c9c43f8528364a1aa6fc01ec1b8ae84\" type=\"text/javascript\"></script>\n    <script src=\"/static/components/create-react-class/index.js?v=894ad57246e682b4cfbe7cd5e408dcd6b38d06af4de4f3425991e2676fdc2ef1732cbd19903104198878ae77de12a1996de3e7da3a467fb226bdda8f4618faec\" type=\"text/javascript\"></script>\n    <script src=\"/static/components/requirejs/require.js?v=d37b48bb2137faa0ab98157e240c084dd5b1b5e74911723aa1d1f04c928c2a03dedf922d049e4815f7e5a369faa2e6b6a1000aae958b7953b5cc60411154f593\" type=\"text/javascript\" charset=\"utf-8\"></script>\n    <script>\n      require.config({\n          \n          urlArgs: \"v=20211114094732\",\n          \n          baseUrl: '/static/',\n          paths: {\n            'auth/js/main': 'auth/js/main.min',\n            custom : '/custom',\n            nbextensions : '/nbextensions',\n            kernelspecs : '/kernelspecs',\n            underscore : 'components/underscore/underscore-min',\n            backbone : 'components/backbone/backbone-min',\n            jed: 'components/jed/jed',\n            jquery: 'components/jquery/jquery.min',\n            json: 'components/requirejs-plugins/src/json',\n            text: 'components/requirejs-text/text',\n            bootstrap: 'components/bootstrap/dist/js/bootstrap.min',\n            bootstraptour: 'components/bootstrap-tour/build/js/bootstrap-tour.min',\n            'jquery-ui': 'components/jquery-ui/jquery-ui.min',\n            moment: 'components/moment/min/moment-with-locales',\n            codemirror: 'components/codemirror',\n            termjs: 'components/xterm.js/xterm',\n            typeahead: 'components/jquery-typeahead/dist/jquery.typeahead.min',\n          },\n          map: { // for backward compatibility\n              \"*\": {\n                  \"jqueryui\": \"jquery-ui\",\n              }\n          },\n          shim: {\n            typeahead: {\n              deps: [\"jquery\"],\n              exports: \"typeahead\"\n            },\n            underscore: {\n              exports: '_'\n            },\n            backbone: {\n              deps: [\"underscore\", \"jquery\"],\n              exports: \"Backbone\"\n            },\n            bootstrap: {\n              deps: [\"jquery\"],\n              exports: \"bootstrap\"\n            },\n            bootstraptour: {\n              deps: [\"bootstrap\"],\n              exports: \"Tour\"\n            },\n            \"jquery-ui\": {\n              deps: [\"jquery\"],\n              exports: \"$\"\n            }\n          },\n          waitSeconds: 30,\n      });\n\n      require.config({\n          map: {\n              '*':{\n                'contents': 'services/contents',\n              }\n          }\n      });\n\n      // error-catching custom.js shim.\n      define(\"custom\", function (require, exports, module) {\n          try {\n              var custom = require('custom/custom');\n              console.debug('loaded custom.js');\n              return custom;\n          } catch (e) {\n              console.error(\"error loading custom.js\", e);\n              return {};\n          }\n      })\n\n    document.nbjs_translations = {\"domain\": \"nbjs\", \"locale_data\": {\"nbjs\": {\"\": {\"domain\": \"nbjs\"}}}};\n    document.documentElement.lang = navigator.language.toLowerCase();\n    </script>\n\n    \n    \n\n</head>\n\n<body class=\"\"\n \n  \n \ndir=\"ltr\">\n\n<noscript>\n    <div id='noscript'>\n      Jupyter Notebook requires JavaScript.<br>\n      Please enable it to proceed. \n  </div>\n</noscript>\n\n<div id=\"header\" role=\"navigation\" aria-label=\"Top Menu\">\n  <div id=\"header-container\" class=\"container\">\n  <div id=\"ipython_notebook\" class=\"nav navbar-brand\"><a href=\"/tree\" title='dashboard'>\n      <img src='/static/base/images/logo.png?v=a2a176ee3cee251ffddf5fa21fe8e43727a9e5f87a06f9c91ad7b776d9e9d3d5e0159c16cc188a3965e00375fb4bc336c16067c688f5040c0c2d4bfdb852a9e4' alt='Jupyter Notebook'/>\n  </a></div>\n\n  \n  \n  \n  \n  \n  \n\n\n  \n  \n  </div>\n  <div class=\"header-bar\"></div>\n\n  \n  \n</div>\n\n<div id=\"site\">\n\n\n<div class=\"error\">\n    \n    <h1>403 : Forbidden</h1>\n    \n    \n    \n    <p>The error was:</p>\n    <div class=\"traceback-wrapper\">\n    <pre class=\"traceback\">&#39;_xsrf&#39; argument missing from POST</pre>\n    </div>\n    \n    \n</div>\n\n\n</div>\n\n\n\n\n\n\n\n<script type='text/javascript'>\nrequire(['jquery'], function($) {\n  // scroll long tracebacks to the bottom\n  var tb = $(\".traceback\")[0];\n  tb.scrollTop = tb.scrollHeight;\n});\n</script>\n\n\n<script type='text/javascript'>\n  function _remove_token_from_url() {\n    if (window.location.search.length <= 1) {\n      return;\n    }\n    var search_parameters = window.location.search.slice(1).split('&');\n    for (var i = 0; i < search_parameters.length; i++) {\n      if (search_parameters[i].split('=')[0] === 'token') {\n        // remote token from search parameters\n        search_parameters.splice(i, 1);\n        var new_search = '';\n        if (search_parameters.length) {\n          new_search = '?' + search_parameters.join('&');\n        }\n        var new_url = window.location.origin + \n                      window.location.pathname + \n                      new_search + \n                      window.location.hash;\n        window.history.replaceState({}, \"\", new_url);\n        return;\n      }\n    }\n  }\n  _remove_token_from_url();\n</script>\n</body>\n\n</html>"
     ]
    }
   ],
   "source": [
    "uuosapi.get_account(test_account1)"
   ]
  },
  {
   "cell_type": "code",
   "execution_count": 7,
   "metadata": {},
   "outputs": [],
   "source": [
    "import init\n",
    "from uuoskit import uuosapi\n",
    "init.init()\n",
    "test_account1 = init.test_account1"
   ]
  },
  {
   "cell_type": "markdown",
   "metadata": {},
   "source": [
    "# push_action"
   ]
  },
  {
   "cell_type": "code",
   "execution_count": 9,
   "metadata": {},
   "outputs": [
    {
     "data": {
      "text/plain": [
       "100000840.9901"
      ]
     },
     "execution_count": 9,
     "metadata": {},
     "output_type": "execute_result"
    }
   ],
   "source": [
    "uuosapi.get_balance(test_account1)"
   ]
  },
  {
   "cell_type": "code",
   "execution_count": 10,
   "metadata": {},
   "outputs": [],
   "source": [
    "args = {'from':test_account1, 'to':'eosio', 'quantity':'0.1000 EOS', 'memo':'hello,world'}\n",
    "r = uuosapi.push_action('eosio.token', 'transfer', args, {test_account1:'active'})"
   ]
  },
  {
   "cell_type": "code",
   "execution_count": 11,
   "metadata": {
    "scrolled": true
   },
   "outputs": [
    {
     "data": {
      "text/plain": [
       "100000840.8901"
      ]
     },
     "execution_count": 11,
     "metadata": {},
     "output_type": "execute_result"
    }
   ],
   "source": [
    "uuosapi.get_balance(test_account1)"
   ]
  },
  {
   "cell_type": "markdown",
   "metadata": {},
   "source": [
    "# push_actions"
   ]
  },
  {
   "cell_type": "code",
   "execution_count": 12,
   "metadata": {},
   "outputs": [
    {
     "data": {
      "text/plain": [
       "100000840.8901"
      ]
     },
     "execution_count": 12,
     "metadata": {},
     "output_type": "execute_result"
    }
   ],
   "source": [
    "uuosapi.get_balance(test_account1)"
   ]
  },
  {
   "cell_type": "code",
   "execution_count": 13,
   "metadata": {},
   "outputs": [],
   "source": [
    "aa = []\n",
    "args = {'from':test_account1, 'to':'eosio', 'quantity':f'0.1000 {config.main_token}', 'memo':'hello,world'}\n",
    "a = ['eosio.token', 'transfer', args, {test_account1:'active'}]\n",
    "aa.append(a)\n",
    "\n",
    "args = {'from':test_account1, 'to':'eosio', 'quantity':f'0.2000 {config.main_token}', 'memo':'hello,world'}\n",
    "a = ['eosio.token', 'transfer', args, {test_account1:'active'}]\n",
    "aa.append(a)\n",
    "\n",
    "r = uuosapi.push_actions(aa)"
   ]
  },
  {
   "cell_type": "code",
   "execution_count": 14,
   "metadata": {},
   "outputs": [
    {
     "data": {
      "text/plain": [
       "100000840.5901"
      ]
     },
     "execution_count": 14,
     "metadata": {},
     "output_type": "execute_result"
    }
   ],
   "source": [
    "uuosapi.get_balance(test_account1)"
   ]
  }
 ],
 "metadata": {
  "kernelspec": {
   "display_name": "Python 3 (ipykernel)",
   "language": "python",
   "name": "python3"
  },
  "language_info": {
   "codemirror_mode": {
    "name": "ipython",
    "version": 3
   },
   "file_extension": ".py",
   "mimetype": "text/x-python",
   "name": "python",
   "nbconvert_exporter": "python",
   "pygments_lexer": "ipython3",
   "version": "3.9.5"
  }
 },
 "nbformat": 4,
 "nbformat_minor": 2
}
