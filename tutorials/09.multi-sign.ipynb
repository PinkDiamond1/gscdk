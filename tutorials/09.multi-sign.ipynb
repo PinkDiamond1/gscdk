{
 "cells": [
  {
   "cell_type": "markdown",
   "metadata": {},
   "source": [
    "```python\n",
    "eosapi.gen_transaction(actions, expiration, reference_block_id)\n",
    "```"
   ]
  },
  {
   "cell_type": "markdown",
   "metadata": {},
   "source": [
    "```python\n",
    "wallet.sign_transaction(trx, public_keys, chain_id)\n",
    "```"
   ]
  },
  {
   "cell_type": "markdown",
   "metadata": {},
   "source": [
    "```python\n",
    "eosapi.push_transaction(trx, compress=0)\n",
    "```"
   ]
  },
  {
   "cell_type": "code",
   "execution_count": 1,
   "metadata": {
    "scrolled": true
   },
   "outputs": [],
   "source": [
    "import json\n",
    "import init\n",
    "from uuoskit import uuosapi\n",
    "from uuoskit import wasmcompiler\n",
    "init.init()\n",
    "test_account1 = init.test_account1"
   ]
  },
  {
   "cell_type": "code",
   "execution_count": null,
   "metadata": {},
   "outputs": [],
   "source": [
    "'''\n",
    "{'private': '5K3QY8YrtmT6K5VSSvTGaCm4g5xaxKo6yEHQ6nh1qn4ZYJptxAk',\n",
    " 'public': 'EOS5AgSKfz3nbujRCJVeNv5ybBuMmhoQEUNQMQRWv1GaQAvxjBLq3'}\n",
    " \n",
    "{'private': '5KhWH7iRi7BaFvGKbhbyNTXK7rXSG77SmCDcJJ1W6hpS5ysNd8T',\n",
    " 'public': 'EOS67NHbUDvMhcqL4a4YyPEJZ784tZ38WfEhz6cBQ5RYbhf5KmjNc'}\n",
    "'''"
   ]
  },
  {
   "cell_type": "code",
   "execution_count": 2,
   "metadata": {},
   "outputs": [],
   "source": [
    "from uuoskit import wallet\n",
    "wallet.import_key('test', '5K3QY8YrtmT6K5VSSvTGaCm4g5xaxKo6yEHQ6nh1qn4ZYJptxAk')\n",
    "wallet.import_key('test', '5KhWH7iRi7BaFvGKbhbyNTXK7rXSG77SmCDcJJ1W6hpS5ysNd8T')"
   ]
  },
  {
   "cell_type": "code",
   "execution_count": 4,
   "metadata": {},
   "outputs": [
    {
     "data": {
      "text/plain": [
       "('EOS67NHbUDvMhcqL4a4YyPEJZ784tZ38WfEhz6cBQ5RYbhf5KmjNc',\n",
       " 'EOS5AgSKfz3nbujRCJVeNv5ybBuMmhoQEUNQMQRWv1GaQAvxjBLq3')"
      ]
     },
     "execution_count": 4,
     "metadata": {},
     "output_type": "execute_result"
    }
   ],
   "source": [
    "a = uuosapi.get_public_key('5KhWH7iRi7BaFvGKbhbyNTXK7rXSG77SmCDcJJ1W6hpS5ysNd8T', True)\n",
    "b = uuosapi.get_public_key('5K3QY8YrtmT6K5VSSvTGaCm4g5xaxKo6yEHQ6nh1qn4ZYJptxAk', True)\n",
    "a, b"
   ]
  },
  {
   "cell_type": "code",
   "execution_count": 5,
   "metadata": {},
   "outputs": [
    {
     "data": {
      "text/plain": [
       "['EOS5AgSKfz3nbujRCJVeNv5ybBuMmhoQEUNQMQRWv1GaQAvxjBLq3',\n",
       " 'EOS67NHbUDvMhcqL4a4YyPEJZ784tZ38WfEhz6cBQ5RYbhf5KmjNc']"
      ]
     },
     "execution_count": 5,
     "metadata": {},
     "output_type": "execute_result"
    }
   ],
   "source": [
    "a = ['EOS67NHbUDvMhcqL4a4YyPEJZ784tZ38WfEhz6cBQ5RYbhf5KmjNc',\n",
    "    'EOS5AgSKfz3nbujRCJVeNv5ybBuMmhoQEUNQMQRWv1GaQAvxjBLq3']\n",
    "a.sort()\n",
    "a"
   ]
  },
  {
   "cell_type": "code",
   "execution_count": 6,
   "metadata": {},
   "outputs": [
    {
     "name": "stdout",
     "output_type": "stream",
     "text": [
      "done!\n"
     ]
    }
   ],
   "source": [
    "a = {\n",
    "    \"account\": test_account1,\n",
    "    \"permission\": \"sayhello\",\n",
    "    \"parent\": \"active\",\n",
    "    \"auth\": {\n",
    "        \"threshold\": 2,\n",
    "        \"keys\": [\n",
    "            {\n",
    "                \"key\": \"PUB_K1_5AgSKfz3nbujRCJVeNv5ybBuMmhoQEUNQMQRWv1GaQAw1U9sW6\",\n",
    "                \"weight\": 1\n",
    "            },\n",
    "            {\n",
    "                \"key\": \"PUB_K1_67NHbUDvMhcqL4a4YyPEJZ784tZ38WfEhz6cBQ5RYbhf2EBVcv\",\n",
    "                \"weight\": 1\n",
    "            }\n",
    "        ],\n",
    "        \"accounts\": [],\n",
    "        \"waits\": []\n",
    "    }\n",
    "}\n",
    "r = uuosapi.push_action('eosio', 'updateauth', a, {test_account1:'active'})\n",
    "print('done!')"
   ]
  },
  {
   "cell_type": "code",
   "execution_count": null,
   "metadata": {
    "scrolled": true
   },
   "outputs": [],
   "source": [
    "args = {\n",
    "    'account':test_account1,\n",
    "    'code':test_account1,\n",
    "    'type':'sayhello',\n",
    "    'requirement':'sayhello'\n",
    "}\n",
    "r = uuosapi.push_action('eosio', 'linkauth', args, {test_account1:'active'})"
   ]
  },
  {
   "cell_type": "code",
   "execution_count": 8,
   "metadata": {
    "scrolled": true
   },
   "outputs": [
    {
     "data": {
      "text/plain": [
       "{'account_name': 'helloworld11',\n",
       " 'head_block_num': 8077723,\n",
       " 'head_block_time': '2021-11-15T05:28:03.000',\n",
       " 'privileged': False,\n",
       " 'last_code_update': '2021-11-15T05:16:12.000',\n",
       " 'created': '2021-02-07T17:59:33.000',\n",
       " 'core_liquid_balance': '100000838.5901 EOS',\n",
       " 'ram_quota': 15730017,\n",
       " 'net_weight': '83716500642',\n",
       " 'cpu_weight': '334875932576',\n",
       " 'net_limit': {'used': 25089,\n",
       "  'available': '27480957608712',\n",
       "  'max': '27480957633801',\n",
       "  'last_usage_update_time': {'slot': 230089756},\n",
       "  'current_used': 25084},\n",
       " 'cpu_limit': {'used': 14878,\n",
       "  'available': '39306674412853',\n",
       "  'max': '39306674427731',\n",
       "  'last_usage_update_time': {'slot': 230089756},\n",
       "  'current_used': 14875},\n",
       " 'ram_usage': 176519,\n",
       " 'permissions': [{'perm_name': 'active',\n",
       "   'parent': 'owner',\n",
       "   'required_auth': {'threshold': 1,\n",
       "    'keys': [{'key': 'EOS6AjF6hvF7GSuSd4sCgfPKq5uWaXvGM2aQtEUCwmEHygQaqxBSV',\n",
       "      'weight': 1}],\n",
       "    'accounts': [{'permission': {'actor': 'helloworld11',\n",
       "       'permission': 'eosio.code'},\n",
       "      'weight': 1}],\n",
       "    'waits': []}},\n",
       "  {'perm_name': 'owner',\n",
       "   'parent': '',\n",
       "   'required_auth': {'threshold': 1,\n",
       "    'keys': [{'key': 'EOS5fVw435RSwW3YYWAX9qz548JFTWuFiBcHT3PGLryWaAMmxgjp1',\n",
       "      'weight': 1}],\n",
       "    'accounts': [{'permission': {'actor': 'helloworld11',\n",
       "       'permission': 'active'},\n",
       "      'weight': 1}],\n",
       "    'waits': []}},\n",
       "  {'perm_name': 'sayhello',\n",
       "   'parent': 'active',\n",
       "   'required_auth': {'threshold': 2,\n",
       "    'keys': [{'key': 'EOS5AgSKfz3nbujRCJVeNv5ybBuMmhoQEUNQMQRWv1GaQAvxjBLq3',\n",
       "      'weight': 1},\n",
       "     {'key': 'EOS67NHbUDvMhcqL4a4YyPEJZ784tZ38WfEhz6cBQ5RYbhf5KmjNc',\n",
       "      'weight': 1}],\n",
       "    'accounts': [],\n",
       "    'waits': []}}],\n",
       " 'total_resources': {'owner': 'helloworld11',\n",
       "  'net_weight': '8371650.0642 EOS',\n",
       "  'cpu_weight': '33487593.2576 EOS',\n",
       "  'ram_bytes': 15728617},\n",
       " 'self_delegated_bandwidth': None,\n",
       " 'refund_request': None,\n",
       " 'voter_info': None,\n",
       " 'rex_info': None}"
      ]
     },
     "execution_count": 8,
     "metadata": {},
     "output_type": "execute_result"
    }
   ],
   "source": [
    "uuosapi.get_account(test_account1)"
   ]
  },
  {
   "cell_type": "code",
   "execution_count": 9,
   "metadata": {},
   "outputs": [
    {
     "data": {
      "text/plain": [
       "'helloworld11'"
      ]
     },
     "execution_count": 9,
     "metadata": {},
     "output_type": "execute_result"
    }
   ],
   "source": [
    "test_account1"
   ]
  },
  {
   "cell_type": "code",
   "execution_count": 11,
   "metadata": {
    "scrolled": true
   },
   "outputs": [
    {
     "name": "stdout",
     "output_type": "stream",
     "text": [
      "done!\n"
     ]
    }
   ],
   "source": [
    "code = r'''\n",
    "package main\n",
    "\n",
    "import \"github.com/uuosio/chain\"\n",
    "\n",
    "func main() {\n",
    "    receiver, _, _ := chain.GetApplyArgs()\n",
    "    chain.RequireAuth2(receiver, chain.NewName(\"sayhello\"))\n",
    "    //chain.RequireAuth2(receiver, chain.NewName(\"owner\"))    \n",
    "    chain.Println(\"hello,world\")\n",
    "}\n",
    "'''\n",
    "\n",
    "code, abi = uuosapi.compile(test_account1, code, src_type=2)\n",
    "uuosapi.deploy_code(test_account1, code, vm_type=0)\n",
    "print('done!')"
   ]
  },
  {
   "cell_type": "code",
   "execution_count": 11,
   "metadata": {},
   "outputs": [
    {
     "data": {
      "text/plain": [
       "['EOS67NHbUDvMhcqL4a4YyPEJZ784tZ38WfEhz6cBQ5RYbhf5KmjNc',\n",
       " 'EOS6AjF6hvF7GSuSd4sCgfPKq5uWaXvGM2aQtEUCwmEHygQaqxBSV',\n",
       " 'EOS7sPDxfw5yx5SZgQcVb57zS1XeSWLNpQKhaGjjy2qe61BrAQ49o',\n",
       " 'EOS89jesRgvvnFVuNtLg4rkFXcBg2Qq26wjzppssdHj2a8PSoWMhx',\n",
       " 'EOS5AgSKfz3nbujRCJVeNv5ybBuMmhoQEUNQMQRWv1GaQAvxjBLq3']"
      ]
     },
     "execution_count": 11,
     "metadata": {},
     "output_type": "execute_result"
    }
   ],
   "source": [
    "from uuoskit import wallet\n",
    "wallet.get_public_keys()"
   ]
  },
  {
   "cell_type": "code",
   "execution_count": 12,
   "metadata": {},
   "outputs": [
    {
     "name": "stdout",
     "output_type": "stream",
     "text": [
      "hello,world\n",
      "\n"
     ]
    }
   ],
   "source": [
    "r = uuosapi.push_action(test_account1, 'sayhello', b'hello,world', {test_account1:'sayhello'})\n",
    "print(r['processed']['action_traces'][0]['console'])"
   ]
  },
  {
   "cell_type": "code",
   "execution_count": 12,
   "metadata": {
    "scrolled": false
   },
   "outputs": [
    {
     "name": "stdout",
     "output_type": "stream",
     "text": [
      "{\"expiration\":\"2021-11-15T10:16:42\",\"ref_block_num\":21367,\"ref_block_prefix\":324289947,\"max_net_usage_words\":0,\"max_cpu_usage_ms\":0,\"delay_sec\":0,\"context_free_actions\":[],\"actions\":[{\"account\":\"helloworld11\",\"name\":\"sayhello\",\"authorization\":[{\"actor\":\"helloworld11\",\"permission\":\"sayhello\"}],\"data\":\"68656c6c6f2c776f726c64\"}],\"transaction_extensions\":[]}\n"
     ]
    }
   ],
   "source": [
    "action = [test_account1, 'sayhello', b'hello,world', {test_account1:'sayhello'}]\n",
    "info = uuosapi.get_info()\n",
    "reference_block_id = info['last_irreversible_block_id']\n",
    "chain_id = info['chain_id']\n",
    "trx = uuosapi.gen_transaction([action], 60*60, reference_block_id, chain_id)\n",
    "print(trx)"
   ]
  },
  {
   "cell_type": "code",
   "execution_count": 27,
   "metadata": {},
   "outputs": [
    {
     "data": {
      "text/plain": [
       "{'perm_name': 'sayhello',\n",
       " 'parent': 'active',\n",
       " 'required_auth': {'threshold': 2,\n",
       "  'keys': [{'key': 'EOS5AgSKfz3nbujRCJVeNv5ybBuMmhoQEUNQMQRWv1GaQAvxjBLq3',\n",
       "    'weight': 1},\n",
       "   {'key': 'EOS67NHbUDvMhcqL4a4YyPEJZ784tZ38WfEhz6cBQ5RYbhf5KmjNc',\n",
       "    'weight': 1}],\n",
       "  'accounts': [],\n",
       "  'waits': []}}"
      ]
     },
     "execution_count": 27,
     "metadata": {},
     "output_type": "execute_result"
    }
   ],
   "source": [
    "uuosapi.get_account(test_account1)['permissions'][2]"
   ]
  },
  {
   "cell_type": "markdown",
   "metadata": {},
   "source": [
    "### sign with private key of EOS67NHbUDvMhcqL4a4YyPEJZ784tZ38WfEhz6cBQ5RYbhf5KmjNc"
   ]
  },
  {
   "cell_type": "code",
   "execution_count": 13,
   "metadata": {},
   "outputs": [
    {
     "data": {
      "text/plain": [
       "['SIG_K1_KksBjPqfy566KvZa9Zcm4VxMxJaycmqBbySi4MikxQyxTwQtALz7k9Tr5tUVWUcAHhPFUBKAgfmZJkxENotPzgMmXQgAy5']"
      ]
     },
     "execution_count": 13,
     "metadata": {},
     "output_type": "execute_result"
    }
   ],
   "source": [
    "# a = ['EOS67NHbUDvMhcqL4a4YyPEJZ784tZ38WfEhz6cBQ5RYbhf5KmjNc',\n",
    "#     'EOS5AgSKfz3nbujRCJVeNv5ybBuMmhoQEUNQMQRWv1GaQAvxjBLq3']\n",
    "\n",
    "import hashlib\n",
    "import json\n",
    "public_keys = ['EOS67NHbUDvMhcqL4a4YyPEJZ784tZ38WfEhz6cBQ5RYbhf5KmjNc',]\n",
    "info = uuosapi.get_info()\n",
    "signed_trx = wallet.sign_transaction(trx, public_keys, info['chain_id'])\n",
    "sign1 = signed_trx['signatures']\n",
    "sign1"
   ]
  },
  {
   "cell_type": "code",
   "execution_count": 5,
   "metadata": {},
   "outputs": [
    {
     "data": {
      "text/plain": [
       "'SIG_K1_KhjN7E4x3DEFkkaowTK8F4eXG4hEzwqvpW7jL4w3ht6ENUz2GDs1McpfEJj7CHXjRuGcS8omBqsGnbdcZYvUmWAYhpiBTR'"
      ]
     },
     "execution_count": 5,
     "metadata": {},
     "output_type": "execute_result"
    }
   ],
   "source": [
    "import hashlib\n",
    "info = uuosapi.get_info()\n",
    "chain_id = bytes.fromhex(info['chain_id'])\n",
    "\n",
    "packed_trx = uuosapi.pack_transaction(trx)\n",
    "packed_trx = bytes.fromhex(packed_trx)\n",
    "h = hashlib.sha256()\n",
    "h.update(chain_id)\n",
    "h.update(packed_trx)\n",
    "h.update(b'\\x00'*32)\n",
    "wallet.sign_digest(h.hexdigest(), 'EOS67NHbUDvMhcqL4a4YyPEJZ784tZ38WfEhz6cBQ5RYbhf5KmjNc')"
   ]
  },
  {
   "cell_type": "markdown",
   "metadata": {},
   "source": [
    "### sign with private key of EOS5AgSKfz3nbujRCJVeNv5ybBuMmhoQEUNQMQRWv1GaQAvxjBLq3"
   ]
  },
  {
   "cell_type": "code",
   "execution_count": 6,
   "metadata": {},
   "outputs": [
    {
     "data": {
      "text/plain": [
       "{'signatures': ['SIG_K1_KhjN7E4x3DEFkkaowTK8F4eXG4hEzwqvpW7jL4w3ht6ENUz2GDs1McpfEJj7CHXjRuGcS8omBqsGnbdcZYvUmWAYhpiBTR'],\n",
       " 'compression': 'none',\n",
       " 'packed_context_free_data': '',\n",
       " 'packed_trx': '353392615a535dbb474e000000000110428a97721aa36a0000003446d5bcc10110428a97721aa36a0000003446d5bcc10b68656c6c6f2c776f726c6400'}"
      ]
     },
     "execution_count": 6,
     "metadata": {},
     "output_type": "execute_result"
    }
   ],
   "source": [
    "signed_trx"
   ]
  },
  {
   "cell_type": "code",
   "execution_count": 14,
   "metadata": {},
   "outputs": [
    {
     "data": {
      "text/plain": [
       "['SIG_K1_Km6tm6epeMHWtzk7MxifPEy9LidW3Zt6qtVRdyAHWBBnWJy68FeKySVcVBK9SmQUba91ZySVs7Q88p4fj7kfN6qnNXvVy2']"
      ]
     },
     "execution_count": 14,
     "metadata": {},
     "output_type": "execute_result"
    }
   ],
   "source": [
    "public_keys = ['EOS5AgSKfz3nbujRCJVeNv5ybBuMmhoQEUNQMQRWv1GaQAvxjBLq3']\n",
    "info = uuosapi.get_info()\n",
    "signed_trx = wallet.sign_transaction(trx, public_keys, info['chain_id'])\n",
    "sign2 = signed_trx['signatures']\n",
    "sign2"
   ]
  },
  {
   "cell_type": "code",
   "execution_count": 15,
   "metadata": {},
   "outputs": [],
   "source": [
    "signed_trx['signatures'] = sign1 + sign2\n",
    "signed_trx['signatures'].sort()"
   ]
  },
  {
   "cell_type": "code",
   "execution_count": 16,
   "metadata": {
    "scrolled": true
   },
   "outputs": [
    {
     "name": "stdout",
     "output_type": "stream",
     "text": [
      "hello,world\n",
      "\n"
     ]
    }
   ],
   "source": [
    "r = uuosapi.push_transaction(signed_trx)\n",
    "print(r['processed']['action_traces'][0]['console'])"
   ]
  }
 ],
 "metadata": {
  "kernelspec": {
   "display_name": "Python 3 (ipykernel)",
   "language": "python",
   "name": "python3"
  },
  "language_info": {
   "codemirror_mode": {
    "name": "ipython",
    "version": 3
   },
   "file_extension": ".py",
   "mimetype": "text/x-python",
   "name": "python",
   "nbconvert_exporter": "python",
   "pygments_lexer": "ipython3",
   "version": "3.9.5"
  }
 },
 "nbformat": 4,
 "nbformat_minor": 2
}
