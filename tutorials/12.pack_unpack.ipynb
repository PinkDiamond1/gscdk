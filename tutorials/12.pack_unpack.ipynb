{
 "cells": [
  {
   "cell_type": "code",
   "execution_count": 1,
   "metadata": {},
   "outputs": [],
   "source": [
    "import init\n",
    "from uuoskit import uuosapi\n",
    "init.init()\n",
    "test_account1 = init.test_account1"
   ]
  },
  {
   "cell_type": "markdown",
   "metadata": {},
   "source": [
    "# string"
   ]
  },
  {
   "cell_type": "code",
   "execution_count": null,
   "metadata": {},
   "outputs": [],
   "source": [
    "\n",
    "abi = '''\n",
    "{\n",
    "   \"version\": \"eosio::abi/1.0\",\n",
    "   \"types\": [],\n",
    "  \"structs\": [{\n",
    "      \"name\": \"sayhello\",\n",
    "      \"base\": \"\",\n",
    "      \"fields\": [\n",
    "        {\"name\":\"worlds\", \"type\":\"string\"}\n",
    "      ]\n",
    "    }\n",
    "  ],\n",
    "  \"actions\": [{\n",
    "      \"name\": \"sayhello\",\n",
    "      \"type\": \"sayhello\",\n",
    "      \"ricardian_contract\": \"\"\n",
    "    }\n",
    "  ],\n",
    "  \"tables\": [\n",
    "  ]\n",
    "}\n",
    "'''\n",
    "\n",
    "code = r'''\n",
    "package main\n",
    "\n",
    "import \"github.com/uuosio/chain\"\n",
    "\n",
    "func main() {\n",
    "    _, _, action := chain.GetApplyArgs()\n",
    "    if action == chain.NewName(\"sayhello\") {\n",
    "        data := chain.ReadActionData()\n",
    "        dec := chain.NewDecoder(data)\n",
    "        s := dec.UnpackString()\n",
    "        chain.Println(s)\n",
    "    }\n",
    "}\n",
    "'''\n",
    "\n",
    "code, _ = uuosapi.compile(test_account1, code, src_type=2)\n",
    "uuosapi.deploy_contract(test_account1, code, abi, vm_type=0)\n",
    "print('done!')"
   ]
  },
  {
   "cell_type": "code",
   "execution_count": 10,
   "metadata": {},
   "outputs": [],
   "source": [
    "uuosapi.set_abi(test_account1, abi)"
   ]
  },
  {
   "cell_type": "code",
   "execution_count": 11,
   "metadata": {},
   "outputs": [
    {
     "name": "stdout",
     "output_type": "stream",
     "text": [
      "hello,world\n",
      "\n"
     ]
    }
   ],
   "source": [
    "args = {'worlds':'hello,world'}\n",
    "r = uuosapi.push_action(test_account1, 'sayhello', args, {test_account1:'active'})\n",
    "print(r['processed']['action_traces'][0]['console'])"
   ]
  },
  {
   "cell_type": "markdown",
   "metadata": {},
   "source": [
    "# bytes"
   ]
  },
  {
   "cell_type": "code",
   "execution_count": 13,
   "metadata": {},
   "outputs": [
    {
     "name": "stdout",
     "output_type": "stream",
     "text": [
      "done!\n"
     ]
    }
   ],
   "source": [
    "abi = '''\n",
    "{\n",
    "   \"version\": \"eosio::abi/1.0\",\n",
    "   \"types\": [],\n",
    "  \"structs\": [{\n",
    "      \"name\": \"sayhello\",\n",
    "      \"base\": \"\",\n",
    "      \"fields\": [\n",
    "        {\"name\":\"worlds\", \"type\":\"bytes\"}\n",
    "      ]\n",
    "    }\n",
    "  ],\n",
    "  \"actions\": [{\n",
    "      \"name\": \"sayhello\",\n",
    "      \"type\": \"sayhello\",\n",
    "      \"ricardian_contract\": \"\"\n",
    "    }\n",
    "  ],\n",
    "  \"tables\": [\n",
    "  ]\n",
    "}\n",
    "'''\n",
    "\n",
    "\n",
    "code = r'''\n",
    "package main\n",
    "\n",
    "import \"github.com/uuosio/chain\"\n",
    "\n",
    "func main() {\n",
    "    _, _, action := chain.GetApplyArgs()\n",
    "    if action == chain.NewName(\"sayhello\") {\n",
    "        data := chain.ReadActionData()\n",
    "        dec := chain.NewDecoder(data)\n",
    "        b := dec.UnpackBytes()\n",
    "        chain.Println(b)\n",
    "    }\n",
    "}\n",
    "'''\n",
    "\n",
    "\n",
    "code, _ = uuosapi.compile(test_account1, code, src_type=2)\n",
    "uuosapi.deploy_contract(test_account1, code, abi, vm_type=0)\n",
    "uuosapi.set_abi(test_account1, abi)\n",
    "print('done!')"
   ]
  },
  {
   "cell_type": "code",
   "execution_count": 14,
   "metadata": {},
   "outputs": [
    {
     "name": "stdout",
     "output_type": "stream",
     "text": [
      "68656c6c6f2c776f726c64\n",
      "\n"
     ]
    }
   ],
   "source": [
    "args = {'worlds':bytes.hex(b'hello,world')}\n",
    "r = uuosapi.push_action(test_account1, 'sayhello', args, {test_account1:'active'})\n",
    "print(r['processed']['action_traces'][0]['console'])"
   ]
  },
  {
   "cell_type": "markdown",
   "metadata": {},
   "source": [
    "# array"
   ]
  },
  {
   "cell_type": "code",
   "execution_count": 15,
   "metadata": {},
   "outputs": [
    {
     "name": "stdout",
     "output_type": "stream",
     "text": [
      "done!\n"
     ]
    }
   ],
   "source": [
    "abi = '''\n",
    "{\n",
    "   \"version\": \"eosio::abi/1.0\",\n",
    "   \"types\": [],\n",
    "  \"structs\": [{\n",
    "      \"name\": \"sayhello\",\n",
    "      \"base\": \"\",\n",
    "      \"fields\": [\n",
    "        {\"name\":\"worlds\", \"type\":\"string[]\"}\n",
    "      ]\n",
    "    }\n",
    "  ],\n",
    "  \"actions\": [{\n",
    "      \"name\": \"sayhello\",\n",
    "      \"type\": \"sayhello\",\n",
    "      \"ricardian_contract\": \"\"\n",
    "    }\n",
    "  ],\n",
    "  \"tables\": [\n",
    "  ]\n",
    "}\n",
    "'''\n",
    "\n",
    "code = r'''\n",
    "package main\n",
    "\n",
    "import \"github.com/uuosio/chain\"\n",
    "\n",
    "func main() {\n",
    "    _, _, action := chain.GetApplyArgs()\n",
    "    if action == chain.NewName(\"sayhello\") {\n",
    "        data := chain.ReadActionData()\n",
    "        dec := chain.NewDecoder(data)\n",
    "        length := dec.UnpackLength()\n",
    "        for i:=0;i<length;i++ {\n",
    "            s := dec.UnpackString()\n",
    "            chain.Println(s)\n",
    "        }\n",
    "    }\n",
    "}\n",
    "'''\n",
    "\n",
    "code, _ = uuosapi.compile(test_account1, code, src_type=2)\n",
    "uuosapi.deploy_contract(test_account1, code, abi, vm_type=0)\n",
    "uuosapi.set_abi(test_account1, abi)\n",
    "print('done!')"
   ]
  },
  {
   "cell_type": "code",
   "execution_count": 16,
   "metadata": {},
   "outputs": [
    {
     "name": "stdout",
     "output_type": "stream",
     "text": [
      "hello,world\n",
      "hello\n",
      "\n"
     ]
    }
   ],
   "source": [
    "args = {'worlds':['hello,world', 'hello']}\n",
    "r = uuosapi.push_action(test_account1, 'sayhello', args, {test_account1:'active'})\n",
    "print(r['processed']['action_traces'][0]['console'])"
   ]
  },
  {
   "cell_type": "markdown",
   "metadata": {},
   "source": [
    "# symbol"
   ]
  },
  {
   "cell_type": "code",
   "execution_count": 18,
   "metadata": {},
   "outputs": [
    {
     "name": "stdout",
     "output_type": "stream",
     "text": [
      "done!\n"
     ]
    }
   ],
   "source": [
    "abi = '''\n",
    "{\n",
    "   \"version\": \"eosio::abi/1.0\",\n",
    "   \"types\": [],\n",
    "  \"structs\": [{\n",
    "      \"name\": \"test\",\n",
    "      \"base\": \"\",\n",
    "      \"fields\": [\n",
    "        {\"name\":\"test\", \"type\":\"symbol\"}\n",
    "      ]\n",
    "    }\n",
    "  ],\n",
    "  \"actions\": [{\n",
    "      \"name\": \"test\",\n",
    "      \"type\": \"test\",\n",
    "      \"ricardian_contract\": \"\"\n",
    "    }\n",
    "  ],\n",
    "  \"tables\": [\n",
    "  ]\n",
    "}\n",
    "'''\n",
    "\n",
    "code = r'''\n",
    "package main\n",
    "\n",
    "import \"github.com/uuosio/chain\"\n",
    "\n",
    "func main() {\n",
    "    _, _, action := chain.GetApplyArgs()\n",
    "    if action == chain.NewName(\"test\") {\n",
    "        data := chain.ReadActionData()\n",
    "        dec := chain.NewDecoder(data)\n",
    "        s := chain.Symbol{}\n",
    "        dec.Unpack(&s)\n",
    "        chain.Println(&s)\n",
    "    }\n",
    "}\n",
    "'''\n",
    "\n",
    "code, _ = uuosapi.compile(test_account1, code, src_type=2)\n",
    "uuosapi.deploy_contract(test_account1, code, abi, vm_type=0)\n",
    "uuosapi.set_abi(test_account1, abi)\n",
    "print('done!')"
   ]
  },
  {
   "cell_type": "code",
   "execution_count": 19,
   "metadata": {},
   "outputs": [
    {
     "name": "stdout",
     "output_type": "stream",
     "text": [
      "4,SSSSSSS\n",
      "\n"
     ]
    }
   ],
   "source": [
    "args = {'test':'4,SSSSSSS'}\n",
    "r = uuosapi.push_action(test_account1, 'test', args, {test_account1:'active'})\n",
    "print(r['processed']['action_traces'][0]['console'])"
   ]
  },
  {
   "cell_type": "markdown",
   "metadata": {},
   "source": [
    "# Asset\n",
    "```go\n",
    "type Asset struct {\n",
    "\tAmount int64\n",
    "\tSymbol Symbol\n",
    "}\n",
    "```"
   ]
  },
  {
   "cell_type": "code",
   "execution_count": 20,
   "metadata": {},
   "outputs": [
    {
     "name": "stdout",
     "output_type": "stream",
     "text": [
      "done!\n"
     ]
    }
   ],
   "source": [
    "abi = '''\n",
    "{\n",
    "   \"version\": \"eosio::abi/1.0\",\n",
    "   \"types\": [],\n",
    "  \"structs\": [{\n",
    "      \"name\": \"test\",\n",
    "      \"base\": \"\",\n",
    "      \"fields\": [\n",
    "        {\"name\":\"test\", \"type\":\"asset\"}\n",
    "      ]\n",
    "    }\n",
    "  ],\n",
    "  \"actions\": [{\n",
    "      \"name\": \"test\",\n",
    "      \"type\": \"test\",\n",
    "      \"ricardian_contract\": \"\"\n",
    "    }\n",
    "  ],\n",
    "  \"tables\": [\n",
    "  ]\n",
    "}\n",
    "'''\n",
    "\n",
    "\n",
    "code = r'''\n",
    "package main\n",
    "\n",
    "import \"github.com/uuosio/chain\"\n",
    "\n",
    "func main() {\n",
    "    _, _, action := chain.GetApplyArgs()\n",
    "    if action == chain.NewName(\"test\") {\n",
    "        data := chain.ReadActionData()\n",
    "        dec := chain.NewDecoder(data)\n",
    "        a := chain.Asset{}\n",
    "        dec.Unpack(&a)\n",
    "        chain.Println(\"+++asset:\", a.Amount, a.Symbol)\n",
    "    }\n",
    "}\n",
    "'''\n",
    "\n",
    "code, _ = uuosapi.compile(test_account1, code, src_type=2)\n",
    "uuosapi.deploy_contract(test_account1, code, abi, vm_type=0)\n",
    "uuosapi.set_abi(test_account1, abi)\n",
    "print('done!')"
   ]
  },
  {
   "cell_type": "code",
   "execution_count": 21,
   "metadata": {},
   "outputs": [
    {
     "name": "stdout",
     "output_type": "stream",
     "text": [
      "+++asset: 1000000 4,SYS\n",
      "\n"
     ]
    }
   ],
   "source": [
    "args = {'test':'100.0000 SYS'}\n",
    "r = uuosapi.push_action(test_account1, 'test', args, {test_account1:'active'})\n",
    "print(r['processed']['action_traces'][0]['console'])\n"
   ]
  },
  {
   "cell_type": "code",
   "execution_count": 22,
   "metadata": {},
   "outputs": [
    {
     "name": "stdout",
     "output_type": "stream",
     "text": [
      "done!\n"
     ]
    }
   ],
   "source": [
    "abi = '''\n",
    "{\n",
    "   \"version\": \"eosio::abi/1.0\",\n",
    "   \"types\": [{\n",
    "      \"new_type_name\": \"account_name\",\n",
    "      \"type\": \"name\"\n",
    "   }],\n",
    "  \"structs\": [{\n",
    "      \"name\": \"transfer\",\n",
    "      \"base\": \"\",\n",
    "      \"fields\": [\n",
    "        {\"name\":\"from\", \"type\":\"account_name\"},\n",
    "        {\"name\":\"to\", \"type\":\"account_name\"},\n",
    "        {\"name\":\"quantity\", \"type\":\"asset\"},\n",
    "        {\"name\":\"memo\", \"type\":\"string\"}\n",
    "      ]\n",
    "    }\n",
    "  ],\n",
    "  \"actions\": [{\n",
    "      \"name\": \"transfer\",\n",
    "      \"type\": \"transfer\",\n",
    "      \"ricardian_contract\": \"\"\n",
    "    }\n",
    "  ],\n",
    "  \"tables\": [\n",
    "  ],\n",
    "  \"ricardian_clauses\": [],\n",
    "  \"abi_extensions\": []\n",
    "}\n",
    "'''\n",
    "\n",
    "\n",
    "code = r'''\n",
    "package main\n",
    "\n",
    "import \"github.com/uuosio/chain\"\n",
    "\n",
    "func main() {\n",
    "    _, _, action := chain.GetApplyArgs()\n",
    "    if action == chain.NewName(\"transfer\") {\n",
    "        data := chain.ReadActionData()\n",
    "        dec := chain.NewDecoder(data)\n",
    "        t := chain.Transfer{}\n",
    "        dec.Unpack(&t)\n",
    "        chain.Println(\"+++memo:\", t.Memo)\n",
    "    }\n",
    "}\n",
    "'''\n",
    "\n",
    "code, _ = uuosapi.compile(test_account1, code, src_type=2)\n",
    "uuosapi.deploy_contract(test_account1, code, abi, vm_type=0)\n",
    "uuosapi.set_abi(test_account1, abi)\n",
    "print('done!')"
   ]
  },
  {
   "cell_type": "code",
   "execution_count": 23,
   "metadata": {},
   "outputs": [
    {
     "name": "stdout",
     "output_type": "stream",
     "text": [
      "+++memo: hello,world\n",
      "\n"
     ]
    }
   ],
   "source": [
    "args = {'from':'eosio', 'to':'eosio.token', 'quantity':'100.0000 EOS', 'memo':'hello,world'}\n",
    "r = uuosapi.push_action(test_account1, 'transfer', args, {test_account1:'active'})\n",
    "print(r['processed']['action_traces'][0]['console'])"
   ]
  }
 ],
 "metadata": {
  "kernelspec": {
   "display_name": "Python 3 (ipykernel)",
   "language": "python",
   "name": "python3"
  },
  "language_info": {
   "codemirror_mode": {
    "name": "ipython",
    "version": 3
   },
   "file_extension": ".py",
   "mimetype": "text/x-python",
   "name": "python",
   "nbconvert_exporter": "python",
   "pygments_lexer": "ipython3",
   "version": "3.9.5"
  }
 },
 "nbformat": 4,
 "nbformat_minor": 2
}
