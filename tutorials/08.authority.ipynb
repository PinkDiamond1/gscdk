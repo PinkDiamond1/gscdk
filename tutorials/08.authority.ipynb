{
 "cells": [
  {
   "cell_type": "code",
   "execution_count": 1,
   "metadata": {},
   "outputs": [],
   "source": [
    "import init\n",
    "from uuoskit import uuosapi\n",
    "from uuoskit import wasmcompiler\n",
    "init.init()\n",
    "test_account1 = init.test_account1"
   ]
  },
  {
   "cell_type": "markdown",
   "metadata": {},
   "source": [
    "# chain.HasAuth"
   ]
  },
  {
   "cell_type": "code",
   "execution_count": 3,
   "metadata": {},
   "outputs": [
    {
     "name": "stdout",
     "output_type": "stream",
     "text": [
      "done!\n"
     ]
    }
   ],
   "source": [
    "code = r'''\n",
    "package main\n",
    "\n",
    "import \"github.com/uuosio/chain\"\n",
    "import \"github.com/uuosio/chain/logger\"\n",
    "\n",
    "func main() {\n",
    "    helloworld11 := chain.NewName(\"helloworld11\")\n",
    "    helloworld13 := chain.NewName(\"helloworld13\")\n",
    "    \n",
    "    logger.Println(chain.HasAuth(helloworld11), chain.HasAuth(helloworld13))\n",
    "}\n",
    "'''\n",
    "\n",
    "code, abi = uuosapi.compile(test_account1, code, src_type=2)\n",
    "uuosapi.deploy_code(test_account1, code, vm_type=0)\n",
    "print('done!')"
   ]
  },
  {
   "cell_type": "code",
   "execution_count": 4,
   "metadata": {},
   "outputs": [
    {
     "name": "stdout",
     "output_type": "stream",
     "text": [
      "true false\n",
      "\n",
      "627\n"
     ]
    }
   ],
   "source": [
    "r = uuosapi.push_action(test_account1, 'sayhello', b'hello,world', {test_account1:'active'})\n",
    "print(r['processed']['action_traces'][0]['console'])\n",
    "print(r['processed']['elapsed'])"
   ]
  },
  {
   "cell_type": "markdown",
   "metadata": {},
   "source": [
    "# chain.RequireAuth/chain.RequireAuth2"
   ]
  },
  {
   "cell_type": "code",
   "execution_count": 6,
   "metadata": {},
   "outputs": [
    {
     "name": "stdout",
     "output_type": "stream",
     "text": [
      "done!\n"
     ]
    }
   ],
   "source": [
    "code = r'''\n",
    "package main\n",
    "\n",
    "import \"github.com/uuosio/chain\"\n",
    "\n",
    "func main() {\n",
    "    helloworld11 := chain.NewName(\"helloworld11\")\n",
    "    chain.RequireAuth2(helloworld11, chain.ActiveName)\n",
    "//    chain.RequireAuth2(helloworld11, chain.OwnerName)\n",
    "}\n",
    "'''\n",
    "\n",
    "code, abi = uuosapi.compile(test_account1, code, src_type=2)\n",
    "uuosapi.deploy_code(test_account1, code, vm_type=0)\n",
    "print('done!')"
   ]
  },
  {
   "cell_type": "code",
   "execution_count": 7,
   "metadata": {},
   "outputs": [
    {
     "name": "stdout",
     "output_type": "stream",
     "text": [
      "\n",
      "448\n"
     ]
    }
   ],
   "source": [
    "r = uuosapi.push_action(test_account1, 'sayhello', b'hello,world', {test_account1:'active'})\n",
    "print(r['processed']['action_traces'][0]['console'])\n",
    "print(r['processed']['elapsed'])"
   ]
  }
 ],
 "metadata": {
  "kernelspec": {
   "display_name": "Python 3 (ipykernel)",
   "language": "python",
   "name": "python3"
  },
  "language_info": {
   "codemirror_mode": {
    "name": "ipython",
    "version": 3
   },
   "file_extension": ".py",
   "mimetype": "text/x-python",
   "name": "python",
   "nbconvert_exporter": "python",
   "pygments_lexer": "ipython3",
   "version": "3.9.5"
  }
 },
 "nbformat": 4,
 "nbformat_minor": 2
}
