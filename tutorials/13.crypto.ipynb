{
 "cells": [
  {
   "cell_type": "code",
   "execution_count": 1,
   "metadata": {},
   "outputs": [],
   "source": [
    "import init\n",
    "from uuoskit import uuosapi\n",
    "init.init()\n",
    "test_account1 = init.test_account1"
   ]
  },
  {
   "cell_type": "code",
   "execution_count": 5,
   "metadata": {},
   "outputs": [
    {
     "name": "stdout",
     "output_type": "stream",
     "text": [
      "done!\n"
     ]
    }
   ],
   "source": [
    "code = r'''\n",
    "package main\n",
    "\n",
    "import \"chain\"\n",
    "import \"chain/logger\"\n",
    "\n",
    "func main() {\n",
    "    helloworld := []byte(\"hello,world\")\n",
    "\n",
    "    hash160 := chain.Sha1(helloworld);\n",
    "    logger.Println(hash160[:])\n",
    "\n",
    "    chain.AssertSha1(helloworld, hash160)\n",
    "\n",
    "    hash256 := chain.Sha256(helloworld)\n",
    "    logger.Println(hash256[:])\n",
    "    chain.AssertSha256(helloworld, hash256)\n",
    "\n",
    "    hash512 := chain.Sha512(helloworld)\n",
    "    chain.Println(hash512[:])\n",
    "    chain.AssertSha512(helloworld, hash512)\n",
    "\n",
    "    hash := chain.Ripemd160(helloworld);\n",
    "    chain.Println(hash[:])\n",
    "    chain.AssertRipemd160(helloworld, hash);\n",
    "}\n",
    "'''\n",
    "\n",
    "code = uuosapi.compile(test_account1, code, src_type=2)\n",
    "uuosapi.deploy_code(test_account1, code, vm_type=0)\n",
    "print('done!')"
   ]
  },
  {
   "cell_type": "code",
   "execution_count": 6,
   "metadata": {
    "scrolled": true
   },
   "outputs": [
    {
     "name": "stdout",
     "output_type": "stream",
     "text": [
      "74f4f4eb1947b9ca08e5e68d04d081808777f9a0 \n",
      "77df263f49123356d28a4a8715d25bf5b980beeeb503cab46ea61ac9f3320eda \n",
      "2958f052052ce5c280fc1dcf97038c4f4bf36ca5bde0531567201b391d977db699c379b4d31c8b3dd75a407114104aecb84f8ca11cad67b33d865dd47a72dec3 \n",
      "cdbfe28a68bcc57be34868844a2bb603ba47af6e \n",
      "\n"
     ]
    }
   ],
   "source": [
    "r = uuosapi.push_action(test_account1, 'sayhello', b'hello,world', {test_account1:'active'})\n",
    "print(r['processed']['action_traces'][0]['console'])"
   ]
  },
  {
   "cell_type": "code",
   "execution_count": 9,
   "metadata": {},
   "outputs": [
    {
     "data": {
      "text/plain": [
       "66"
      ]
     },
     "execution_count": 9,
     "metadata": {},
     "output_type": "execute_result"
    }
   ],
   "source": [
    "len(\"\\x00\\x1f*\\x9ef\\xe8\\xfb\\xbf\\xf1\\x1c_\\x88\\xa5\\xa5\\xcb\\xacz\\x07\\x90xk\\x06\\xbd?\\xb2\\\\\\xa6g\\xcc,*\\xe5G\\x01\\x04[g6o\\x1e\\xdefuU\\xb4\\xf2\\xeaJ\\xab\\x01\\x08\\t\\x0e={~\\x81\\xed\\x1b\\x0b\\x06\\xf5o\\xa6\\x19\\xeb\")"
   ]
  },
  {
   "cell_type": "code",
   "execution_count": 40,
   "metadata": {},
   "outputs": [
    {
     "name": "stdout",
     "output_type": "stream",
     "text": [
      "done!\n"
     ]
    }
   ],
   "source": [
    "code = r'''\n",
    "package main\n",
    "\n",
    "import \"encoding/hex\"\n",
    "import \"chain\"\n",
    "import \"chain/logger\"\n",
    "\n",
    "type mystruct struct {\n",
    "    text []byte\n",
    "    sign [66]byte\n",
    "}\n",
    "\n",
    "func (a *mystruct) Pack() []byte {\n",
    "\tenc := chain.NewEncoder(5 + len(a.text) + 66)\n",
    "\tenc.PackBytes(a.text)\n",
    "    enc.WriteBytes(a.sign[:])\n",
    "\treturn enc.GetBytes()\n",
    "}\n",
    "\n",
    "func (a *mystruct) Unpack(data []byte) (int, error) {\n",
    "\tdec := chain.NewDecoder(data)\n",
    "    dec.Unpack(&a.text)\n",
    "    dec.Read(a.sign[:])\n",
    "    return dec.Pos(), nil\n",
    "}\n",
    "\n",
    "func main() {\n",
    "    data := chain.ReadActionData()\n",
    "    a := mystruct{}\n",
    "    a.Unpack(data)\n",
    "    logger.Println(a.text, a.sign[:])\n",
    "\n",
    "    hash := chain.Sha256(a.text)\n",
    "    pub := chain.RecoverKey(hash, a.sign[:])\n",
    "    logger.Println(\"pub:\", hex.EncodeToString(pub))\n",
    "    chain.AssertRecoverKey(hash, a.sign[:], pub)\n",
    "}\n",
    "'''\n",
    "\n",
    "abi = '''\n",
    "{\n",
    "   \"version\": \"eosio::abi/1.0\",\n",
    "   \"types\": [],\n",
    "  \"structs\": [{\n",
    "      \"name\": \"sayhello\",\n",
    "      \"base\": \"\",\n",
    "      \"fields\": [\n",
    "        {\"name\":\"text\", \"type\":\"bytes\"},\n",
    "        {\"name\":\"sign\", \"type\":\"signature\"}\n",
    "        ]\n",
    "    }\n",
    "  ],\n",
    "  \"actions\": [{\n",
    "      \"name\": \"sayhello\",\n",
    "      \"type\": \"sayhello\",\n",
    "      \"ricardian_contract\": \"\"\n",
    "    }\n",
    "  ],\n",
    "  \"tables\": [\n",
    "  ]\n",
    "}\n",
    "'''\n",
    "\n",
    "code = uuosapi.compile(test_account1, code, src_type=2)\n",
    "uuosapi.deploy_code(test_account1, code, vm_type=0)\n",
    "print('done!')"
   ]
  },
  {
   "cell_type": "code",
   "execution_count": 19,
   "metadata": {},
   "outputs": [],
   "source": [
    "uuosapi.set_abi(test_account1, abi)"
   ]
  },
  {
   "cell_type": "code",
   "execution_count": 14,
   "metadata": {
    "scrolled": true
   },
   "outputs": [
    {
     "data": {
      "text/plain": [
       "{'account_name': 'helloworld11',\n",
       " 'head_block_num': 5489857,\n",
       " 'head_block_time': '2021-08-17T08:54:45.000',\n",
       " 'privileged': False,\n",
       " 'last_code_update': '2021-08-17T08:54:30.000',\n",
       " 'created': '2021-02-07T17:59:33.000',\n",
       " 'core_liquid_balance': '100001004.3384 EOS',\n",
       " 'ram_quota': 15730017,\n",
       " 'net_weight': '83716500642',\n",
       " 'cpu_weight': '334875932576',\n",
       " 'net_limit': {'used': 74727,\n",
       "  'available': '27480972494943',\n",
       "  'max': '27480972569670',\n",
       "  'last_usage_update_time': {'slot': 227501890},\n",
       "  'current_used': 74714},\n",
       " 'cpu_limit': {'used': 58524,\n",
       "  'available': '39306727768501',\n",
       "  'max': '39306727827025',\n",
       "  'last_usage_update_time': {'slot': 227501890},\n",
       "  'current_used': 58514},\n",
       " 'ram_usage': 305602,\n",
       " 'permissions': [{'perm_name': 'active',\n",
       "   'parent': 'owner',\n",
       "   'required_auth': {'threshold': 1,\n",
       "    'keys': [{'key': 'EOS6AjF6hvF7GSuSd4sCgfPKq5uWaXvGM2aQtEUCwmEHygQaqxBSV',\n",
       "      'weight': 1}],\n",
       "    'accounts': [{'permission': {'actor': 'helloworld11',\n",
       "       'permission': 'eosio.code'},\n",
       "      'weight': 1}],\n",
       "    'waits': []}},\n",
       "  {'perm_name': 'owner',\n",
       "   'parent': '',\n",
       "   'required_auth': {'threshold': 1,\n",
       "    'keys': [{'key': 'EOS5fVw435RSwW3YYWAX9qz548JFTWuFiBcHT3PGLryWaAMmxgjp1',\n",
       "      'weight': 1}],\n",
       "    'accounts': [{'permission': {'actor': 'helloworld11',\n",
       "       'permission': 'active'},\n",
       "      'weight': 1}],\n",
       "    'waits': []}}],\n",
       " 'total_resources': {'owner': 'helloworld11',\n",
       "  'net_weight': '8371650.0642 EOS',\n",
       "  'cpu_weight': '33487593.2576 EOS',\n",
       "  'ram_bytes': 15728617},\n",
       " 'self_delegated_bandwidth': None,\n",
       " 'refund_request': None,\n",
       " 'voter_info': None,\n",
       " 'rex_info': None}"
      ]
     },
     "execution_count": 14,
     "metadata": {},
     "output_type": "execute_result"
    }
   ],
   "source": [
    "uuosapi.get_account(test_account1)"
   ]
  },
  {
   "cell_type": "code",
   "execution_count": 31,
   "metadata": {},
   "outputs": [
    {
     "name": "stdout",
     "output_type": "stream",
     "text": [
      "68656c6c6f2c776f726c64 00202087d19bca7c4cf31e8d882ef71ea2ccab7f25d5c0d47801de4beb3a0e1dd9872ff7d006623c95afbacf3b2c6e3775ffc53e2659adeb3cd76326030081b2b9c5 \n",
      "0002a891e0dd57132ed683bc875dacc961c6fd5dfae6800bc6181ab68bb848251e52 \n",
      "\n"
     ]
    }
   ],
   "source": [
    "text = b'hello,world'\n",
    "from uuoskit import wallet\n",
    "import hashlib\n",
    "h = hashlib.sha256()\n",
    "h.update(text)\n",
    "sign = wallet.sign_digest(h.digest(), 'EOS6AjF6hvF7GSuSd4sCgfPKq5uWaXvGM2aQtEUCwmEHygQaqxBSV')\n",
    "assert sign\n",
    "#    args = {'text':text.hex(), 'sign': sign}\n",
    "args = {'text':text.hex()}\n",
    "args = {'sign': sign}\n",
    "args = {'text':text.hex(), 'sign': sign}\n",
    "r = uuosapi.push_action(test_account1, 'sayhello', args, {test_account1:'active'})\n",
    "print(r['processed']['action_traces'][0]['console'])\n"
   ]
  },
  {
   "cell_type": "code",
   "execution_count": 35,
   "metadata": {},
   "outputs": [
    {
     "data": {
      "text/plain": [
       "34.0"
      ]
     },
     "execution_count": 35,
     "metadata": {},
     "output_type": "execute_result"
    }
   ],
   "source": [
    "len('0002a891e0dd57132ed683bc875dacc961c6fd5dfae6800bc6181ab68bb848251e52')/2"
   ]
  },
  {
   "cell_type": "code",
   "execution_count": 34,
   "metadata": {},
   "outputs": [
    {
     "name": "stdout",
     "output_type": "stream",
     "text": [
      "b'\\x02\\xa8\\x91\\xe0\\xddW\\x13.\\xd6\\x83\\xbc\\x87]\\xac\\xc9a\\xc6\\xfd]\\xfa\\xe6\\x80\\x0b\\xc6\\x18\\x1a\\xb6\\x8b\\xb8H%\\x1eR'\n"
     ]
    },
    {
     "data": {
      "text/plain": [
       "b'EOS6AjF6hvF7GSuSd4sCgfPKq5uWaXvGM2aQtEUCwmEHygQaqxBSV'"
      ]
     },
     "execution_count": 34,
     "metadata": {},
     "output_type": "execute_result"
    }
   ],
   "source": [
    "import base58\n",
    "\n",
    "public_key = bytes.fromhex('02a891e0dd57132ed683bc875dacc961c6fd5dfae6800bc6181ab68bb848251e52 ')\n",
    "print(public_key)\n",
    "\n",
    "h = hashlib.new('ripemd160')\n",
    "h.update(public_key)\n",
    "digest = h.digest()\n",
    "public_key += digest[:4]\n",
    "b'EOS'+base58.b58encode(public_key)"
   ]
  }
 ],
 "metadata": {
  "kernelspec": {
   "display_name": "Python 3",
   "language": "python",
   "name": "python3"
  },
  "language_info": {
   "codemirror_mode": {
    "name": "ipython",
    "version": 3
   },
   "file_extension": ".py",
   "mimetype": "text/x-python",
   "name": "python",
   "nbconvert_exporter": "python",
   "pygments_lexer": "ipython3",
   "version": "3.7.4"
  }
 },
 "nbformat": 4,
 "nbformat_minor": 2
}
