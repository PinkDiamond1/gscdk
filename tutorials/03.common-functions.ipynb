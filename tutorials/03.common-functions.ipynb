{
 "cells": [
  {
   "cell_type": "code",
   "execution_count": 1,
   "metadata": {},
   "outputs": [],
   "source": [
    "import init\n",
    "from uuoskit import uuosapi\n",
    "from uuoskit import wasmcompiler\n",
    "init.init()\n",
    "test_account1 = init.test_account1\n",
    "test_account2 = init.test_account2"
   ]
  },
  {
   "cell_type": "markdown",
   "metadata": {},
   "source": [
    "# chain.CurrentReceiver\n",
    "```go\n",
    "func CurrentReceiver() Name\n",
    "```"
   ]
  },
  {
   "cell_type": "code",
   "execution_count": 3,
   "metadata": {},
   "outputs": [
    {
     "name": "stdout",
     "output_type": "stream",
     "text": [
      "done!\n"
     ]
    }
   ],
   "source": [
    "code = r'''\n",
    "package main\n",
    "\n",
    "import \"github.com/uuosio/chain\"\n",
    "import \"github.com/uuosio/chain/logger\"\n",
    "\n",
    "func main() {\n",
    "    logger.Println(\"current_receiver:\", chain.CurrentReceiver())\n",
    "}\n",
    "'''\n",
    "\n",
    "code, abi = wasmcompiler.compile_go_src(test_account1, code)\n",
    "r = uuosapi.deploy_code(test_account1, code, vm_type=0)\n",
    "print('done!')"
   ]
  },
  {
   "cell_type": "code",
   "execution_count": 4,
   "metadata": {},
   "outputs": [
    {
     "name": "stdout",
     "output_type": "stream",
     "text": [
      "current_receiver: helloworld11\n",
      "\n",
      "1516\n"
     ]
    }
   ],
   "source": [
    "r = uuosapi.push_action(test_account1, 'sayhello', b'hello,world', {test_account1:'active'})\n",
    "print(r['processed']['action_traces'][0]['console'])\n",
    "print(r['processed']['elapsed'])"
   ]
  },
  {
   "cell_type": "markdown",
   "metadata": {},
   "source": [
    "# chain.IsAccount\n",
    "```go\n",
    "func IsAccount(name Name) bool\n",
    "```"
   ]
  },
  {
   "cell_type": "code",
   "execution_count": 5,
   "metadata": {},
   "outputs": [
    {
     "name": "stdout",
     "output_type": "stream",
     "text": [
      "done!\n"
     ]
    }
   ],
   "source": [
    "code = r'''\n",
    "package main\n",
    "\n",
    "import \"github.com/uuosio/chain\"\n",
    "import \"github.com/uuosio/chain/logger\"\n",
    "\n",
    "func main() {\n",
    "    logger.Println(chain.IsAccount(chain.NewName(\"helloworld11\")), chain.IsAccount(chain.NewName(\"hello123\")))\n",
    "}\n",
    "'''\n",
    "\n",
    "code, abi = wasmcompiler.compile_go_src(test_account1, code)\n",
    "r = uuosapi.deploy_code(test_account1, code, vm_type=0)\n",
    "print('done!')\n"
   ]
  },
  {
   "cell_type": "code",
   "execution_count": 6,
   "metadata": {},
   "outputs": [
    {
     "name": "stdout",
     "output_type": "stream",
     "text": [
      "true false\n",
      "\n",
      "561\n"
     ]
    }
   ],
   "source": [
    "r = uuosapi.push_action(test_account1, 'sayhello', b'hello,world', {test_account1:'active'})\n",
    "print(r['processed']['action_traces'][0]['console'])\n",
    "print(r['processed']['elapsed'])"
   ]
  },
  {
   "cell_type": "markdown",
   "metadata": {},
   "source": [
    "# chain.PublicationTime\n",
    "```go\n",
    "func PublicationTime() uint64\n",
    "```"
   ]
  },
  {
   "cell_type": "code",
   "execution_count": 7,
   "metadata": {},
   "outputs": [
    {
     "name": "stdout",
     "output_type": "stream",
     "text": [
      "done!\n"
     ]
    }
   ],
   "source": [
    "code = r'''\n",
    "package main\n",
    "\n",
    "import \"github.com/uuosio/chain\"\n",
    "import \"github.com/uuosio/chain/logger\"\n",
    "\n",
    "func main() {\n",
    "    logger.Println(chain.PublicationTime())\n",
    "}\n",
    "'''\n",
    "\n",
    "code, abi = wasmcompiler.compile_go_src(test_account1, code)\n",
    "r = uuosapi.deploy_code(test_account1, code, vm_type=0)\n",
    "print('done!')"
   ]
  },
  {
   "cell_type": "code",
   "execution_count": 8,
   "metadata": {},
   "outputs": [
    {
     "name": "stdout",
     "output_type": "stream",
     "text": [
      "1633794924000000\n",
      "\n",
      "1362\n"
     ]
    }
   ],
   "source": [
    "r = uuosapi.push_action(test_account1, 'sayhello', b'hello,world', {test_account1:'active'})\n",
    "print(r['processed']['action_traces'][0]['console'])\n",
    "print(r['processed']['elapsed'])"
   ]
  },
  {
   "cell_type": "code",
   "execution_count": 9,
   "metadata": {},
   "outputs": [
    {
     "data": {
      "text/plain": [
       "'Tue, 17 Aug 2021 12:18:54 GMT'"
      ]
     },
     "execution_count": 9,
     "metadata": {},
     "output_type": "execute_result"
    }
   ],
   "source": [
    "import time\n",
    "local_time = time.localtime(1629173934000000/1e6)\n",
    "time.strftime('%a, %d %b %Y %H:%M:%S GMT', local_time)"
   ]
  },
  {
   "cell_type": "markdown",
   "metadata": {},
   "source": [
    "# chain.HasAuth\n",
    "```go\n",
    "func HasAuth(name Name) bool\n",
    "```"
   ]
  },
  {
   "cell_type": "code",
   "execution_count": 12,
   "metadata": {},
   "outputs": [
    {
     "name": "stdout",
     "output_type": "stream",
     "text": [
      "done!\n"
     ]
    }
   ],
   "source": [
    "code = r'''\n",
    "package main\n",
    "\n",
    "import \"github.com/uuosio/chain\"\n",
    "import \"github.com/uuosio/chain/logger\"\n",
    "\n",
    "func main() {\n",
    "    _, _, action := chain.GetApplyArgs()\n",
    "    if action == chain.NewName(\"sayhello\") {\n",
    "        n := chain.NewName(\"helloworld11\")\n",
    "        logger.Println(chain.HasAuth(n))\n",
    "        n = chain.NewName(\"eosio\")\n",
    "        logger.Println(chain.HasAuth(n))\n",
    "    }\n",
    "}\n",
    "'''\n",
    "code, abi = wasmcompiler.compile_go_src(test_account1, code)\n",
    "r = uuosapi.deploy_code(test_account1, code, vm_type=0)\n",
    "print('done!')"
   ]
  },
  {
   "cell_type": "code",
   "execution_count": 13,
   "metadata": {},
   "outputs": [
    {
     "name": "stdout",
     "output_type": "stream",
     "text": [
      "true\n",
      "false\n",
      "\n",
      "427\n"
     ]
    }
   ],
   "source": [
    "r = uuosapi.push_action(test_account1, 'sayhello', b'hello,world', {test_account1:'active'})\n",
    "print(r['processed']['action_traces'][0]['console'])\n",
    "print(r['processed']['elapsed'])"
   ]
  },
  {
   "cell_type": "markdown",
   "metadata": {},
   "source": [
    "# chain.RequireAuth\n",
    "```go\n",
    "func RequireAuth(name Name)\n",
    "```"
   ]
  },
  {
   "cell_type": "code",
   "execution_count": 15,
   "metadata": {},
   "outputs": [
    {
     "name": "stdout",
     "output_type": "stream",
     "text": [
      "done!\n"
     ]
    }
   ],
   "source": [
    "code = r'''\n",
    "package main\n",
    "\n",
    "import \"github.com/uuosio/chain\"\n",
    "\n",
    "func main() {\n",
    "    receiver, _, action := chain.GetApplyArgs()\n",
    "    if action == chain.NewName(\"sayhello\") {\n",
    "        //require active permission\n",
    "        chain.RequireAuth(receiver)\n",
    "        //specify permission name\n",
    "        chain.RequireAuth2(receiver, chain.ActiveName)\n",
    "    }\n",
    "}\n",
    "'''\n",
    "code, abi = wasmcompiler.compile_go_src(test_account1, code)\n",
    "r = uuosapi.deploy_code(test_account1, code, vm_type=0)\n",
    "print('done!')"
   ]
  },
  {
   "cell_type": "code",
   "execution_count": 16,
   "metadata": {},
   "outputs": [
    {
     "name": "stdout",
     "output_type": "stream",
     "text": [
      "\n",
      "424\n"
     ]
    }
   ],
   "source": [
    "r = uuosapi.push_action(test_account1, 'sayhello', b'', {test_account1:'active'})\n",
    "print(r['processed']['action_traces'][0]['console'])\n",
    "print(r['processed']['elapsed'])"
   ]
  },
  {
   "cell_type": "markdown",
   "metadata": {},
   "source": [
    "# chain.PublicationTime/chain.CurrentTime\n",
    "```go\n",
    "func PublicationTime() uint64\n",
    "func CurrentTime() uint64\n",
    "```"
   ]
  },
  {
   "cell_type": "code",
   "execution_count": 20,
   "metadata": {},
   "outputs": [
    {
     "name": "stdout",
     "output_type": "stream",
     "text": [
      "done!\n"
     ]
    }
   ],
   "source": [
    "code = r'''\n",
    "package main\n",
    "\n",
    "import \"github.com/uuosio/chain\"\n",
    "import \"github.com/uuosio/chain/logger\"\n",
    "\n",
    "func main() {\n",
    "    _, _, action := chain.GetApplyArgs()\n",
    "    if action == chain.NewName(\"sayhello\") {\n",
    "        logger.Println(chain.PublicationTime())\n",
    "        logger.Println(chain.CurrentTime().Elapsed)\n",
    "    }\n",
    "}\n",
    "'''\n",
    "\n",
    "code, abi = uuosapi.compile(test_account1, code, src_type=2)\n",
    "r = uuosapi.deploy_code(test_account1, code, vm_type=0)\n",
    "print('done!')\n"
   ]
  },
  {
   "cell_type": "code",
   "execution_count": 21,
   "metadata": {},
   "outputs": [
    {
     "name": "stdout",
     "output_type": "stream",
     "text": [
      "1633795035000000\n",
      "1633795035000000\n",
      "\n",
      "469\n"
     ]
    }
   ],
   "source": [
    "r = uuosapi.push_action(test_account1, 'sayhello', b'hello,world', {test_account1:'active'})\n",
    "print(r['processed']['action_traces'][0]['console'])\n",
    "print(r['processed']['elapsed'])"
   ]
  },
  {
   "cell_type": "markdown",
   "metadata": {},
   "source": [
    "# Check\n",
    "```go\n",
    "func Check(b bool, msg string)\n",
    "```"
   ]
  },
  {
   "cell_type": "code",
   "execution_count": 23,
   "metadata": {},
   "outputs": [
    {
     "name": "stdout",
     "output_type": "stream",
     "text": [
      "done!\n"
     ]
    }
   ],
   "source": [
    "code = r'''\n",
    "package main\n",
    "\n",
    "import \"github.com/uuosio/chain\"\n",
    "\n",
    "func main() {\n",
    "    receiver, _, action := chain.GetApplyArgs()\n",
    "    if action == chain.NewName(\"sayhello\") {\n",
    "        chain.Check(chain.HasAuth(receiver), \"bad permission\")\n",
    "    }\n",
    "}\n",
    "'''\n",
    "\n",
    "code, abi = uuosapi.compile(test_account1, code, src_type=2)\n",
    "r = uuosapi.deploy_code(test_account1, code, vm_type=0)\n",
    "print('done!')"
   ]
  },
  {
   "cell_type": "code",
   "execution_count": 24,
   "metadata": {},
   "outputs": [
    {
     "name": "stdout",
     "output_type": "stream",
     "text": [
      "\n",
      "419\n"
     ]
    }
   ],
   "source": [
    "r = uuosapi.push_action(test_account1, 'sayhello', b'hello,world', {test_account1:'active'})\n",
    "print(r['processed']['action_traces'][0]['console'])\n",
    "print(r['processed']['elapsed'])"
   ]
  },
  {
   "cell_type": "code",
   "execution_count": 25,
   "metadata": {},
   "outputs": [
    {
     "name": "stderr",
     "output_type": "stream",
     "text": [
      "2021-10-09 23:57:44,962 INFO http_client 208 non ok response: 500\n"
     ]
    },
    {
     "name": "stdout",
     "output_type": "stream",
     "text": [
      "assertion failure with message: bad permission\n"
     ]
    }
   ],
   "source": [
    "try:\n",
    "    r = uuosapi.push_action(test_account1, 'sayhello', b'hello,world', {test_account2:'active'})\n",
    "except Exception as e:\n",
    "    print(e.json['error']['details'][0]['message'])"
   ]
  }
 ],
 "metadata": {
  "kernelspec": {
   "display_name": "Python 3 (ipykernel)",
   "language": "python",
   "name": "python3"
  },
  "language_info": {
   "codemirror_mode": {
    "name": "ipython",
    "version": 3
   },
   "file_extension": ".py",
   "mimetype": "text/x-python",
   "name": "python",
   "nbconvert_exporter": "python",
   "pygments_lexer": "ipython3",
   "version": "3.9.5"
  }
 },
 "nbformat": 4,
 "nbformat_minor": 2
}
