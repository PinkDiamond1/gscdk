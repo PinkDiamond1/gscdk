{
 "cells": [
  {
   "cell_type": "code",
   "execution_count": 1,
   "metadata": {},
   "outputs": [],
   "source": [
    "import init\n",
    "from uuoskit import uuosapi\n",
    "from uuoskit import wasmcompiler\n",
    "init.init()\n",
    "test_account1 = init.test_account1"
   ]
  },
  {
   "cell_type": "code",
   "execution_count": 2,
   "metadata": {
    "scrolled": true
   },
   "outputs": [
    {
     "data": {
      "text/plain": [
       "{'account_name': 'helloworld11',\n",
       " 'head_block_num': 5611987,\n",
       " 'head_block_time': '2021-08-21T14:41:15.000',\n",
       " 'privileged': False,\n",
       " 'last_code_update': '2021-08-21T14:34:06.000',\n",
       " 'created': '2021-02-07T17:59:33.000',\n",
       " 'core_liquid_balance': '100001004.3384 EOS',\n",
       " 'ram_quota': 15730017,\n",
       " 'net_weight': '83716500642',\n",
       " 'cpu_weight': '334875932576',\n",
       " 'net_limit': {'used': 4576,\n",
       "  'available': '27480972565094',\n",
       "  'max': '27480972569670',\n",
       "  'last_usage_update_time': {'slot': 227623885},\n",
       "  'current_used': 4554},\n",
       " 'cpu_limit': {'used': 8793,\n",
       "  'available': '39306727818232',\n",
       "  'max': '39306727827025',\n",
       "  'last_usage_update_time': {'slot': 227623885},\n",
       "  'current_used': 8750},\n",
       " 'ram_usage': 299556,\n",
       " 'permissions': [{'perm_name': 'active',\n",
       "   'parent': 'owner',\n",
       "   'required_auth': {'threshold': 1,\n",
       "    'keys': [{'key': 'EOS6AjF6hvF7GSuSd4sCgfPKq5uWaXvGM2aQtEUCwmEHygQaqxBSV',\n",
       "      'weight': 1}],\n",
       "    'accounts': [{'permission': {'actor': 'helloworld11',\n",
       "       'permission': 'eosio.code'},\n",
       "      'weight': 1}],\n",
       "    'waits': []}},\n",
       "  {'perm_name': 'owner',\n",
       "   'parent': '',\n",
       "   'required_auth': {'threshold': 1,\n",
       "    'keys': [{'key': 'EOS5fVw435RSwW3YYWAX9qz548JFTWuFiBcHT3PGLryWaAMmxgjp1',\n",
       "      'weight': 1}],\n",
       "    'accounts': [{'permission': {'actor': 'helloworld11',\n",
       "       'permission': 'active'},\n",
       "      'weight': 1}],\n",
       "    'waits': []}}],\n",
       " 'total_resources': {'owner': 'helloworld11',\n",
       "  'net_weight': '8371650.0642 EOS',\n",
       "  'cpu_weight': '33487593.2576 EOS',\n",
       "  'ram_bytes': 15728617},\n",
       " 'self_delegated_bandwidth': None,\n",
       " 'refund_request': None,\n",
       " 'voter_info': None,\n",
       " 'rex_info': None}"
      ]
     },
     "execution_count": 2,
     "metadata": {},
     "output_type": "execute_result"
    }
   ],
   "source": [
    "uuosapi.get_account(test_account1)"
   ]
  },
  {
   "cell_type": "code",
   "execution_count": 3,
   "metadata": {},
   "outputs": [
    {
     "name": "stdout",
     "output_type": "stream",
     "text": [
      "done!\n"
     ]
    }
   ],
   "source": [
    "a = {\n",
    "    \"account\": test_account1,\n",
    "    \"permission\": \"active\",\n",
    "    \"parent\": \"owner\",\n",
    "    \"auth\": {\n",
    "        \"threshold\": 1,\n",
    "        \"keys\": [\n",
    "            {\n",
    "                \"key\": \"EOS6AjF6hvF7GSuSd4sCgfPKq5uWaXvGM2aQtEUCwmEHygQaqxBSV\",\n",
    "                \"weight\": 1\n",
    "            },\n",
    "        ],\n",
    "        \"accounts\": [{\"permission\":{\"actor\":test_account1,\"permission\":\"eosio.code\"},\"weight\":1}],\n",
    "        \"waits\": []\n",
    "    }\n",
    "}\n",
    "r = uuosapi.push_action('eosio', 'updateauth', a, {test_account1:'active'})\n",
    "print('done!')"
   ]
  },
  {
   "cell_type": "code",
   "execution_count": 4,
   "metadata": {},
   "outputs": [
    {
     "data": {
      "text/plain": [
       "'helloworld11'"
      ]
     },
     "execution_count": 4,
     "metadata": {},
     "output_type": "execute_result"
    }
   ],
   "source": [
    "test_account1"
   ]
  },
  {
   "cell_type": "code",
   "execution_count": 6,
   "metadata": {},
   "outputs": [
    {
     "name": "stdout",
     "output_type": "stream",
     "text": [
      "done!\n"
     ]
    }
   ],
   "source": [
    "code = r'''\n",
    "package main\n",
    "\n",
    "import \"chain\"\n",
    "import _ \"chain/logger\"\n",
    "\n",
    "type Transfer struct {\n",
    "    From     chain.Name\n",
    "    To       chain.Name\n",
    "    Quantity chain.Asset\n",
    "    Memo     string\n",
    "}\n",
    "\n",
    "func main() {\n",
    "    _, _, action := chain.GetApplyArgs()\n",
    "    if action == chain.NewName(\"sayhello\") {\n",
    "        a := chain.NewAction(chain.NewName(\"eosio.token\"), chain.NewName(\"transfer\"))\n",
    "        a.AddPermission(chain.NewName(\"helloworld11\"), chain.ActiveName)\n",
    "\n",
    "        t := Transfer{}\n",
    "        t.From = chain.NewName(\"helloworld11\")\n",
    "        t.To = chain.NewName(\"eosio\")\n",
    "        \n",
    "        // Send 1.0 EOS\n",
    "        t.Quantity.Amount = 10000;\n",
    "        t.Quantity.Symbol = chain.NewSymbol(\"EOS\", 4);\n",
    "\n",
    "        a.Data = t.Pack()\n",
    "        a.Send()\n",
    "    }\n",
    "    \n",
    "}\n",
    "'''\n",
    "code, abi = uuosapi.compile(test_account1, code, src_type=2)\n",
    "uuosapi.deploy_code(test_account1, code, vm_type=0)\n",
    "print('done!')"
   ]
  },
  {
   "cell_type": "code",
   "execution_count": 7,
   "metadata": {},
   "outputs": [
    {
     "data": {
      "text/plain": [
       "(100001004.3384, 589987464.7273)"
      ]
     },
     "execution_count": 7,
     "metadata": {},
     "output_type": "execute_result"
    }
   ],
   "source": [
    "uuosapi.get_balance(test_account1), uuosapi.get_balance('eosio')"
   ]
  },
  {
   "cell_type": "code",
   "execution_count": 8,
   "metadata": {},
   "outputs": [
    {
     "name": "stdout",
     "output_type": "stream",
     "text": [
      "\n",
      "1778\n"
     ]
    }
   ],
   "source": [
    "r = uuosapi.push_action(test_account1, 'sayhello', b'hello,world', {test_account1:'active'})\n",
    "print(r['processed']['action_traces'][0]['console'])\n",
    "print(r['processed']['elapsed'])"
   ]
  },
  {
   "cell_type": "code",
   "execution_count": 9,
   "metadata": {},
   "outputs": [
    {
     "data": {
      "text/plain": [
       "(100001003.3384, 589987465.7273)"
      ]
     },
     "execution_count": 9,
     "metadata": {},
     "output_type": "execute_result"
    }
   ],
   "source": [
    "uuosapi.get_balance(test_account1), uuosapi.get_balance('eosio')"
   ]
  }
 ],
 "metadata": {
  "kernelspec": {
   "display_name": "Python 3",
   "language": "python",
   "name": "python3"
  },
  "language_info": {
   "codemirror_mode": {
    "name": "ipython",
    "version": 3
   },
   "file_extension": ".py",
   "mimetype": "text/x-python",
   "name": "python",
   "nbconvert_exporter": "python",
   "pygments_lexer": "ipython3",
   "version": "3.7.4"
  }
 },
 "nbformat": 4,
 "nbformat_minor": 2
}
