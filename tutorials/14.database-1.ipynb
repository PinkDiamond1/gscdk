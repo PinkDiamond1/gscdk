{
 "cells": [
  {
   "cell_type": "code",
   "execution_count": 1,
   "metadata": {},
   "outputs": [],
   "source": [
    "import init\n",
    "from pyeoskit import eosapi\n",
    "init.init()\n",
    "test_account1 = init.test_account1"
   ]
  },
  {
   "cell_type": "markdown",
   "metadata": {},
   "source": [
    "### DBI64.Set(id uint64, data []byte, payer chain.Name) Iterator {\n",
    "\n",
    "\n",
    "```go\n",
    "func (db *DBI64) Set(id uint64, data []byte, payer chain.Name) Iterator {\n",
    "\n",
    "```"
   ]
  },
  {
   "cell_type": "code",
   "execution_count": 2,
   "metadata": {},
   "outputs": [
    {
     "name": "stdout",
     "output_type": "stream",
     "text": [
      "done!\n"
     ]
    }
   ],
   "source": [
    "code = r'''\n",
    "package main\n",
    "\n",
    "import (\n",
    "    \"github.com/uuosio/chain\"\n",
    "    \"github.com/uuosio/chain/database\"\n",
    ")\n",
    "\n",
    "func main() {\n",
    "    receiver, first_receiver, action := chain.GetApplyArgs()\n",
    "    chain.Println(receiver, first_receiver, action)\n",
    "\n",
    "    code := receiver\n",
    "    scope := receiver\n",
    "    table := chain.NewName(\"mytable\")\n",
    "    payer := receiver\n",
    "\n",
    "    db := database.NewDBI64(code, scope, table)\n",
    "    it := db.Find(uint64(1))\n",
    "    if !it.IsOk() {\n",
    "        db.Set(uint64(1), []byte(\"hello\"), payer)\n",
    "    }\n",
    "}\n",
    "'''\n",
    "\n",
    "code, abi = eosapi.compile(test_account1, code, src_type=2)\n",
    "eosapi.deploy_code(test_account1, code, vm_type=0)\n",
    "print('done!')"
   ]
  },
  {
   "cell_type": "code",
   "execution_count": 3,
   "metadata": {},
   "outputs": [
    {
     "name": "stdout",
     "output_type": "stream",
     "text": [
      "helloworld11 helloworld11 sayhello\n",
      "\n"
     ]
    }
   ],
   "source": [
    "r = eosapi.push_action(test_account1, 'sayhello', b'hello,world', {test_account1:'active'})\n",
    "print(r['processed']['action_traces'][0]['console'])"
   ]
  },
  {
   "cell_type": "markdown",
   "metadata": {},
   "source": [
    "### DBI64.Find\n",
    "\n",
    "```go\n",
    "func (db *DBI64) Find(id uint64) Iterator\n",
    "```"
   ]
  },
  {
   "cell_type": "code",
   "execution_count": 5,
   "metadata": {},
   "outputs": [
    {
     "name": "stdout",
     "output_type": "stream",
     "text": [
      "done!\n"
     ]
    }
   ],
   "source": [
    "code = r'''\n",
    "package main\n",
    "\n",
    "import (\n",
    "    \"github.com/uuosio/chain\"\n",
    "    \"github.com/uuosio/chain/database\"\n",
    ")\n",
    "\n",
    "func main() {\n",
    "    receiver, first_receiver, action := chain.GetApplyArgs()\n",
    "    chain.Println(receiver, first_receiver, action)\n",
    "\n",
    "    code := receiver\n",
    "    scope := receiver\n",
    "    table := chain.NewName(\"mytable\")\n",
    "\n",
    "    db := database.NewDBI64(code, scope, table)\n",
    "    it := db.Find(uint64(1))\n",
    "    chain.Println(it.IsOk())\n",
    "}\n",
    "'''\n",
    "\n",
    "code, abi = eosapi.compile(test_account1, code, src_type=2)\n",
    "eosapi.deploy_code(test_account1, code, vm_type=0)\n",
    "print('done!')"
   ]
  },
  {
   "cell_type": "code",
   "execution_count": 5,
   "metadata": {},
   "outputs": [
    {
     "name": "stdout",
     "output_type": "stream",
     "text": [
      "helloworld11 helloworld11 sayhello\n",
      "true\n",
      "\n"
     ]
    }
   ],
   "source": [
    "r = eosapi.push_action(test_account1, 'sayhello', b'hello,world', {test_account1:'active'})\n",
    "print(r['processed']['action_traces'][0]['console'])"
   ]
  },
  {
   "cell_type": "markdown",
   "metadata": {},
   "source": [
    "### DBI64.Get\n",
    "```go\n",
    "func (db *DBI64) Get(id uint64) (interface{}, error)\n",
    "```"
   ]
  },
  {
   "cell_type": "code",
   "execution_count": 6,
   "metadata": {},
   "outputs": [
    {
     "name": "stdout",
     "output_type": "stream",
     "text": [
      "done!\n"
     ]
    }
   ],
   "source": [
    "code = r'''\n",
    "package main\n",
    "\n",
    "import (\n",
    "    \"github.com/uuosio/chain\"\n",
    "    \"github.com/uuosio/chain/database\"\n",
    ")\n",
    "\n",
    "func main() {\n",
    "    receiver, first_receiver, action := chain.GetApplyArgs()\n",
    "    chain.Println(receiver, first_receiver, action)\n",
    "\n",
    "    code := receiver\n",
    "    scope := receiver\n",
    "    table := chain.NewName(\"mytable\")\n",
    "\n",
    "    db := database.NewDBI64(code, scope, table)\n",
    "    it, value := db.Get(uint64(1))\n",
    "    chain.Println(string(value), it.I)\n",
    "}\n",
    "'''\n",
    "\n",
    "code, abi = eosapi.compile(test_account1, code, src_type=2)\n",
    "eosapi.deploy_code(test_account1, code, vm_type=0)\n",
    "print('done!')\n"
   ]
  },
  {
   "cell_type": "code",
   "execution_count": 7,
   "metadata": {},
   "outputs": [
    {
     "name": "stdout",
     "output_type": "stream",
     "text": [
      "helloworld11 helloworld11 sayhello\n",
      "1 0\n",
      "\n"
     ]
    }
   ],
   "source": [
    "r = eosapi.push_action(test_account1, 'sayhello', b'hello,world', {test_account1:'active'})\n",
    "print(r['processed']['action_traces'][0]['console'])"
   ]
  },
  {
   "cell_type": "markdown",
   "metadata": {},
   "source": [
    "### DBI64.Update\n",
    "\n",
    "```go\n",
    "func (db *DBI64) Update(it Iterator, data interface{}, payer chain.Name)\n",
    "```"
   ]
  },
  {
   "cell_type": "code",
   "execution_count": 8,
   "metadata": {},
   "outputs": [
    {
     "name": "stdout",
     "output_type": "stream",
     "text": [
      "done!\n"
     ]
    }
   ],
   "source": [
    "code = r'''\n",
    "package main\n",
    "\n",
    "import (\n",
    "    \"github.com/uuosio/chain\"\n",
    "    \"github.com/uuosio/chain/database\"\n",
    ")\n",
    "\n",
    "func main() {\n",
    "    receiver, first_receiver, action := chain.GetApplyArgs()\n",
    "    chain.Println(receiver, first_receiver, action)\n",
    "\n",
    "    code := receiver\n",
    "    scope := receiver\n",
    "    table := chain.NewName(\"mytable\")\n",
    "    payer := receiver\n",
    "    db := database.NewDBI64(code, scope, table)\n",
    "    it := db.Find(uint64(1))\n",
    "\n",
    "    if it.IsOk() {\n",
    "        oldData, _ := db.GetByIterator(it)\n",
    "        logger.Println(string(oldData))\n",
    "        data := chain.ReadActionData()\n",
    "        db.Update(it, data, payer)\n",
    "    }\n",
    "}\n",
    "'''\n",
    "\n",
    "code, abi = eosapi.compile(test_account1, code, src_type=2)\n",
    "eosapi.deploy_code(test_account1, code, vm_type=0)\n",
    "print('done!')\n"
   ]
  },
  {
   "cell_type": "code",
   "execution_count": 9,
   "metadata": {},
   "outputs": [
    {
     "name": "stdout",
     "output_type": "stream",
     "text": [
      "helloworld11 helloworld11 sayhello\n",
      "1\n",
      "\n"
     ]
    }
   ],
   "source": [
    "r = eosapi.push_action(test_account1, 'sayhello', b'hello,world', {test_account1:'active'})\n",
    "print(r['processed']['action_traces'][0]['console'])"
   ]
  },
  {
   "cell_type": "markdown",
   "metadata": {},
   "source": [
    "### Lowerbound Upperbound\n",
    "\n",
    "\n",
    "```go\n",
    "func (db *DBI64) Lowerbound(id uint64) Iterator\n",
    "func (db *DBI64) Upperbound(id uint64) Iterator\n",
    "\n",
    "```"
   ]
  },
  {
   "cell_type": "code",
   "execution_count": 9,
   "metadata": {},
   "outputs": [
    {
     "name": "stdout",
     "output_type": "stream",
     "text": [
      "done!\n"
     ]
    }
   ],
   "source": [
    "code = r'''\n",
    "package main\n",
    "\n",
    "import (\n",
    "    \"github.com/uuosio/chain\"\n",
    "    \"github.com/uuosio/chain/database\"\n",
    ")\n",
    "\n",
    "func main() {\n",
    "    receiver, first_receiver, action := chain.GetApplyArgs()\n",
    "    chain.Println(receiver, first_receiver, action)\n",
    "\n",
    "    code := receiver\n",
    "    scope := receiver\n",
    "    table := chain.NewName(\"mytable\")\n",
    "    payer := receiver\n",
    "    db := database.NewDBI64(code, scope, table)\n",
    "\n",
    "    if chain.NewName(\"destroy\") == action {\n",
    "        for {\n",
    "            it := db.Lowerbound(uint64(0))\n",
    "            if !it.IsOk() {\n",
    "                break\n",
    "            }\n",
    "            db.Remove(it)\n",
    "        }\n",
    "        chain.Println(\"destroy done!\");\n",
    "    } else if chain.NewName(\"init\") == action {\n",
    "        db.Set(1, []byte(\"1\"), payer);\n",
    "        db.Set(3, []byte(\"3\"), payer);\n",
    "        db.Set(5, []byte(\"5\"), payer);\n",
    "        db.Set(7, []byte(\"7\"), payer);\n",
    "        chain.Println(\"init done!\");\n",
    "    } else if chain.NewName(\"test\") == action {\n",
    "        itr := db.Upperbound(3);\n",
    "        data, _ := db.GetByIterator(itr)\n",
    "        chain.Println(\"upperbound of 3:\", string(data))\n",
    "\n",
    "        itr = db.Upperbound(2)\n",
    "        data, _ = db.GetByIterator(itr)\n",
    "        chain.Println(\"upperbound of 2:\", string(data))\n",
    "\n",
    "        itr = db.Lowerbound(3);\n",
    "        data, _ = db.GetByIterator(itr);\n",
    "        chain.Println(\"lowerbound of 3:\", string(data))\n",
    "\n",
    "        itr = db.Lowerbound(2);\n",
    "        data, _ = db.GetByIterator(itr)\n",
    "        chain.Println(\"lowerbound of 2:\", string(data))\n",
    "    }\n",
    "}\n",
    "'''\n",
    "\n",
    "\n",
    "code, abi = eosapi.compile(test_account1, code, src_type=2)\n",
    "eosapi.deploy_code(test_account1, code, vm_type=0)\n",
    "print('done!')"
   ]
  },
  {
   "cell_type": "code",
   "execution_count": 10,
   "metadata": {},
   "outputs": [
    {
     "name": "stdout",
     "output_type": "stream",
     "text": [
      "helloworld11 helloworld11 destroy\n",
      "destroy done!\n",
      "\n",
      "helloworld11 helloworld11 init\n",
      "init done!\n",
      "\n"
     ]
    }
   ],
   "source": [
    "r = eosapi.push_action(test_account1, 'destroy', b'', {test_account1:'active'})\n",
    "print(r['processed']['action_traces'][0]['console'])\n",
    "\n",
    "r = eosapi.push_action(test_account1, 'init', b'hello,world', {test_account1:'active'})\n",
    "print(r['processed']['action_traces'][0]['console'])"
   ]
  },
  {
   "cell_type": "code",
   "execution_count": 11,
   "metadata": {},
   "outputs": [
    {
     "name": "stdout",
     "output_type": "stream",
     "text": [
      "helloworld11 helloworld11 test\n",
      "upperbound of 3: 5\n",
      "upperbound of 2: 3\n",
      "lowerbound of 3: 3\n",
      "lowerbound of 2: 3\n",
      "\n"
     ]
    }
   ],
   "source": [
    "r = eosapi.push_action(test_account1, 'test', b'', {test_account1:'active'})\n",
    "print(r['processed']['action_traces'][0]['console'])"
   ]
  },
  {
   "cell_type": "markdown",
   "metadata": {},
   "source": [
    "```go\n",
    "func (db *DBI64) Next(it Iterator) (next_iterator Iterator, primary uint64)\n",
    "func (db *DBI64) Previous(it Iterator) (previous_iterator Iterator, primary uint64)\n",
    "func (db *DBI64) End() Iterator\n",
    "func (db *DBI64) Remove(it Iterator)\n",
    "```\n"
   ]
  },
  {
   "cell_type": "code",
   "execution_count": 12,
   "metadata": {},
   "outputs": [
    {
     "name": "stdout",
     "output_type": "stream",
     "text": [
      "done!\n"
     ]
    }
   ],
   "source": [
    "code = r'''\n",
    "package main\n",
    "\n",
    "import (\n",
    "    \"github.com/uuosio/chain\"\n",
    "    \"github.com/uuosio/chain/database\"\n",
    ")\n",
    "\n",
    "func main() {\n",
    "    receiver, first_receiver, action := chain.GetApplyArgs()\n",
    "    chain.Println(receiver, first_receiver, action)\n",
    "\n",
    "    code := receiver\n",
    "    scope := receiver\n",
    "    table := chain.NewName(\"mytable\")\n",
    "    payer := receiver\n",
    "    db := database.NewDBI64(code, scope, table)\n",
    "\n",
    "    if chain.NewName(\"destroy\") == action {\n",
    "        for {\n",
    "            it := db.Lowerbound(uint64(0))\n",
    "            if !it.IsOk() {\n",
    "                break\n",
    "            }\n",
    "            db.Remove(it)\n",
    "        }\n",
    "        chain.Println(\"destroy done!\\n\");\n",
    "    } else if chain.NewName(\"init\") == action {\n",
    "        db.Set(1, []byte(\"1\"), payer);\n",
    "        db.Set(3, []byte(\"3\"), payer);\n",
    "        db.Set(5, []byte(\"5\"), payer);\n",
    "        db.Set(7, []byte(\"7\"), payer);\n",
    "        chain.Println(\"init done!\");\n",
    "    } else if chain.NewName(\"test\") == action {\n",
    "        itr := db.Find(3);\n",
    "        data, _ := db.GetByIterator(itr)\n",
    "        chain.Println(\"GetByIterator of 3:\", string(data))\n",
    "\n",
    "        itr, primary := db.Next(itr)\n",
    "        data, _ = db.GetByIterator(itr)\n",
    "        chain.Println(\"Next: \", primary, string(data))\n",
    "\n",
    "        itr, primary = db.Previous(itr)\n",
    "        data, _ = db.GetByIterator(itr)\n",
    "        chain.Println(\"Previous: \", primary, string(data))\n",
    "    }\n",
    "}\n",
    "'''\n",
    "\n",
    "code, abi = eosapi.compile(test_account1, code, src_type=2)\n",
    "eosapi.deploy_code(test_account1, code, vm_type=0)\n",
    "print('done!')"
   ]
  },
  {
   "cell_type": "code",
   "execution_count": 13,
   "metadata": {
    "scrolled": true
   },
   "outputs": [
    {
     "name": "stdout",
     "output_type": "stream",
     "text": [
      "helloworld11 helloworld11 destroy\n",
      "destroy done!\n",
      "\n",
      "\n",
      "629\n",
      "helloworld11 helloworld11 init\n",
      "init done!\n",
      "\n",
      "256\n"
     ]
    }
   ],
   "source": [
    "r = eosapi.push_action(test_account1, 'destroy', b'', {test_account1:'active'})\n",
    "print(r['processed']['action_traces'][0]['console'])\n",
    "print(r['processed']['elapsed'])\n",
    "\n",
    "r = eosapi.push_action(test_account1, 'init', b'hello,world', {test_account1:'active'})\n",
    "print(r['processed']['action_traces'][0]['console'])\n",
    "print(r['processed']['elapsed'])\n"
   ]
  },
  {
   "cell_type": "code",
   "execution_count": 14,
   "metadata": {
    "scrolled": true
   },
   "outputs": [
    {
     "name": "stdout",
     "output_type": "stream",
     "text": [
      "helloworld11 helloworld11 test\n",
      "GetByIterator of 3: 3\n",
      "Next:  5 5\n",
      "Previous:  3 3\n",
      "\n",
      "199\n"
     ]
    }
   ],
   "source": [
    "r = eosapi.push_action(test_account1, 'test', b'', {test_account1:'active'})\n",
    "print(r['processed']['action_traces'][0]['console'])\n",
    "print(r['processed']['elapsed'])"
   ]
  }
 ],
 "metadata": {
  "kernelspec": {
   "display_name": "Python 3 (ipykernel)",
   "language": "python",
   "name": "python3"
  },
  "language_info": {
   "codemirror_mode": {
    "name": "ipython",
    "version": 3
   },
   "file_extension": ".py",
   "mimetype": "text/x-python",
   "name": "python",
   "nbconvert_exporter": "python",
   "pygments_lexer": "ipython3",
   "version": "3.9.5"
  }
 },
 "nbformat": 4,
 "nbformat_minor": 2
}
