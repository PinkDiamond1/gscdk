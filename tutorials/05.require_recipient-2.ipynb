{
 "cells": [
  {
   "cell_type": "markdown",
   "metadata": {},
   "source": [
    "[eosio.token.cpp](https://github.com/EOSIO/eosio.contracts/blob/c046863a65d7e98424312ee8009f0acb493e6231/contracts/eosio.token/src/eosio.token.cpp#L87)"
   ]
  },
  {
   "cell_type": "markdown",
   "metadata": {},
   "source": [
    "```C++\n",
    "void token::transfer( name    from,\n",
    "                      name    to,\n",
    "                      asset   quantity,\n",
    "                      string  memo )\n",
    "{\n",
    "    check( from != to, \"cannot transfer to self\" );\n",
    "    require_auth( from );\n",
    "    check( is_account( to ), \"to account does not exist\");\n",
    "    auto sym = quantity.symbol.code();\n",
    "    stats statstable( _self, sym.raw() );\n",
    "    const auto& st = statstable.get( sym.raw() );\n",
    "\n",
    "    require_recipient( from );\n",
    "    require_recipient( to );\n",
    "\n",
    "    check( quantity.is_valid(), \"invalid quantity\" );\n",
    "    check( quantity.amount > 0, \"must transfer positive quantity\" );\n",
    "    check( quantity.symbol == st.supply.symbol, \"symbol precision mismatch\" );\n",
    "    check( memo.size() <= 256, \"memo has more than 256 bytes\" );\n",
    "\n",
    "    auto payer = has_auth( to ) ? to : from;\n",
    "\n",
    "    sub_balance( from, quantity );\n",
    "    add_balance( to, quantity, payer );\n",
    "}\n",
    "```"
   ]
  },
  {
   "cell_type": "code",
   "execution_count": 1,
   "metadata": {},
   "outputs": [],
   "source": [
    "import init\n",
    "from uuoskit import uuosapi\n",
    "from uuoskit import wasmcompiler\n",
    "init.init()\n",
    "test_account1 = init.test_account1\n",
    "test_account2 = init.test_account2"
   ]
  },
  {
   "cell_type": "code",
   "execution_count": 2,
   "metadata": {},
   "outputs": [
    {
     "name": "stdout",
     "output_type": "stream",
     "text": [
      "done!\n"
     ]
    }
   ],
   "source": [
    "code = r'''\n",
    "package main\n",
    "\n",
    "import \"github.com/uuosio/chain\"\n",
    "import \"github.com/uuosio/chain/logger\"\n",
    "\n",
    "type Transfer struct {\n",
    "    From     chain.Name\n",
    "    To       chain.Name\n",
    "    Quantity chain.Asset\n",
    "    Memo     string\n",
    "}\n",
    "\n",
    "func main() {\n",
    "    _, firstReceiver, action := chain.GetApplyArgs()\n",
    "    if firstReceiver == chain.NewName(\"eosio.token\") && action == chain.NewName(\"transfer\") {\n",
    "        data := chain.ReadActionData()\n",
    "        t := Transfer{}\n",
    "        t.Unpack(data)\n",
    "        if t.To == chain.NewName(\"eosio\") && t.Quantity.Symbol == chain.NewSymbol(\"EOS\", 4) {\n",
    "            logger.Println(\"Example1, memo:\", t.Memo)\n",
    "        }\n",
    "    }\n",
    "}\n",
    "'''\n",
    "\n",
    "code, abi = uuosapi.compile(test_account1, code, src_type=2)\n",
    "uuosapi.deploy_code(test_account1, code, vm_type=0)\n",
    "print('done!')"
   ]
  },
  {
   "cell_type": "code",
   "execution_count": 3,
   "metadata": {
    "scrolled": true
   },
   "outputs": [
    {
     "name": "stdout",
     "output_type": "stream",
     "text": [
      "\n",
      "Example1, memo: hello,world\n",
      "\n",
      "\n",
      "665\n"
     ]
    }
   ],
   "source": [
    "r = uuosapi.transfer(test_account1, \"eosio\", 0.1, 'hello,world')\n",
    "print(r['processed']['action_traces'][0]['console'])\n",
    "print(r['processed']['action_traces'][0]['inline_traces'][0]['console'])\n",
    "print(r['processed']['action_traces'][0]['inline_traces'][1]['console'])\n",
    "print(r['processed']['elapsed'])\n"
   ]
  },
  {
   "cell_type": "markdown",
   "metadata": {},
   "source": [
    "## Improved code"
   ]
  },
  {
   "cell_type": "code",
   "execution_count": 5,
   "metadata": {
    "scrolled": true
   },
   "outputs": [
    {
     "name": "stdout",
     "output_type": "stream",
     "text": [
      "done!\n"
     ]
    }
   ],
   "source": [
    "code = r'''\n",
    "package main\n",
    "\n",
    "import (\n",
    "    \"github.com/uuosio/chain\"\n",
    "    \"github.com/uuosio/chain/logger\"\n",
    ")\n",
    "\n",
    "//contract hello\n",
    "type MyContract struct {\n",
    "    Receiver      chain.Name\n",
    "    FirstReceiver chain.Name\n",
    "    Action        chain.Name\n",
    "}\n",
    "\n",
    "func NewContract(receiver, firstReceiver, action chain.Name) *MyContract {\n",
    "    return &MyContract{receiver, firstReceiver, action}\n",
    "}\n",
    "\n",
    "//notify transfer\n",
    "func (c *MyContract) Transfer(from, to chain.Name, quantity chain.Asset, memo string) {\n",
    "    if c.FirstReceiver == chain.NewName(\"eosio.token\") && c.Action == chain.NewName(\"transfer\") {\n",
    "        if to == chain.NewName(\"helloworld11\") && quantity.Symbol == chain.NewSymbol(\"EOS\", 4) {\n",
    "            logger.Println(\"Example2, memo:\", memo)\n",
    "        }\n",
    "    }\n",
    "}\n",
    "'''\n",
    "\n",
    "code, abi = uuosapi.compile(test_account1, code, src_type=2)\n",
    "uuosapi.deploy_code(test_account1, code, vm_type=0)\n",
    "print('done!')"
   ]
  },
  {
   "cell_type": "code",
   "execution_count": 6,
   "metadata": {},
   "outputs": [
    {
     "name": "stdout",
     "output_type": "stream",
     "text": [
      "\n",
      "helloworld12 eosio.token transfer\n",
      " Br\u001aj\u0010Br\u001aj\u0003\u0000\u0000\u0000\u0000\u0000\u0000\u0004EOS\u0000\u0000\u0000\u0000\r",
      "goodbye,world\n",
      "\n",
      "Example2, memo: goodbye,world\n",
      "\n",
      "694\n"
     ]
    }
   ],
   "source": [
    "r = uuosapi.transfer(test_account2, test_account1, 0.1, 'goodbye,world')\n",
    "print(r['processed']['action_traces'][0]['console'])\n",
    "print(r['processed']['action_traces'][0]['inline_traces'][0]['console'])\n",
    "print(r['processed']['action_traces'][0]['inline_traces'][1]['console'])\n",
    "print(r['processed']['elapsed'])"
   ]
  }
 ],
 "metadata": {
  "kernelspec": {
   "display_name": "Python 3 (ipykernel)",
   "language": "python",
   "name": "python3"
  },
  "language_info": {
   "codemirror_mode": {
    "name": "ipython",
    "version": 3
   },
   "file_extension": ".py",
   "mimetype": "text/x-python",
   "name": "python",
   "nbconvert_exporter": "python",
   "pygments_lexer": "ipython3",
   "version": "3.9.5"
  }
 },
 "nbformat": 4,
 "nbformat_minor": 2
}
