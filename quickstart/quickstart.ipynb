{
 "cells": [
  {
   "cell_type": "markdown",
   "metadata": {
    "id": "mLlQ_F014Y8h"
   },
   "source": [
    "# Setup Environment"
   ]
  },
  {
   "cell_type": "code",
   "execution_count": null,
   "metadata": {
    "colab": {
     "base_uri": "https://localhost:8080/"
    },
    "id": "rHT7_b-l4aAB",
    "outputId": "e1728e6b-71c9-43a2-e143-a69dc3c1bc5b"
   },
   "outputs": [],
   "source": [
    "#install EOS test framework\n",
    "! python3 -m pip install ipyeos\n",
    "\n",
    "#install Go Smart Contracts Development Kit\n",
    "! python3 -m pip install gscdk\n",
    "\n",
    "#install Python Toolkit for EOS\n",
    "! python3 -m pip install pyeoskit\n",
    "\n",
    "# install go\n",
    "! wget https://go.dev/dl/go1.18.3.linux-amd64.tar.gz\n",
    "    \n",
    "! tar -C /usr/local -xzf go1.18.3.linux-amd64.tar.gz\n",
    "\n",
    "# install binaryen\n",
    "! wget https://github.com/WebAssembly/binaryen/releases/download/version_109/binaryen-version_109-x86_64-linux.tar.gz\n",
    "! tar -C /usr/local -xzf binaryen-version_109-x86_64-linux.tar.gz\n",
    "\n",
    "# Add go and binaryen to path\n",
    "import os\n",
    "os.environ['PATH'] += \":/usr/local/go/bin:/usr/local/binaryen-version_109/bin\""
   ]
  },
  {
   "cell_type": "code",
   "execution_count": null,
   "metadata": {
    "colab": {
     "base_uri": "https://localhost:8080/"
    },
    "id": "8F_3mFeg4Y8l",
    "outputId": "d4f8a3bd-3717-452b-e338-6da76d181880"
   },
   "outputs": [],
   "source": [
    "# Initialize a new project with name hello\n",
    "! eosio-go init hello\n",
    "os.chdir('hello')"
   ]
  },
  {
   "cell_type": "code",
   "execution_count": null,
   "metadata": {
    "colab": {
     "base_uri": "https://localhost:8080/"
    },
    "id": "HPpfW31n4Y8n",
    "outputId": "9b258cb9-218a-4da6-8db7-afc79789a62f"
   },
   "outputs": [],
   "source": [
    "!ls -l"
   ]
  },
  {
   "cell_type": "code",
   "execution_count": null,
   "metadata": {},
   "outputs": [],
   "source": [
    "!cat main.go"
   ]
  },
  {
   "cell_type": "markdown",
   "metadata": {},
   "source": [
    "# Building"
   ]
  },
  {
   "cell_type": "code",
   "execution_count": null,
   "metadata": {
    "colab": {
     "base_uri": "https://localhost:8080/"
    },
    "id": "A-2LQ_Iw4Y8o",
    "outputId": "68299308-f3cb-4d84-e7a2-41582ba2be82"
   },
   "outputs": [],
   "source": [
    "!./build.sh"
   ]
  },
  {
   "cell_type": "markdown",
   "metadata": {
    "id": "-CbW8Qcl4Y8o"
   },
   "source": [
    "# Testing"
   ]
  },
  {
   "cell_type": "code",
   "execution_count": null,
   "metadata": {
    "colab": {
     "base_uri": "https://localhost:8080/"
    },
    "id": "fInhl7fQ4Y8p",
    "outputId": "a877c598-b67a-49e9-b017-d4a03e1caf6d"
   },
   "outputs": [],
   "source": [
    "!./test.sh"
   ]
  }
 ],
 "metadata": {
  "colab": {
   "collapsed_sections": [],
   "name": "Copy of quickstart.ipynb",
   "provenance": []
  },
  "kernelspec": {
   "display_name": "Python 3 (ipykernel)",
   "language": "python",
   "name": "python3"
  },
  "language_info": {
   "codemirror_mode": {
    "name": "ipython",
    "version": 3
   },
   "file_extension": ".py",
   "mimetype": "text/x-python",
   "name": "python",
   "nbconvert_exporter": "python",
   "pygments_lexer": "ipython3",
   "version": "3.9.5"
  }
 },
 "nbformat": 4,
 "nbformat_minor": 1
}
