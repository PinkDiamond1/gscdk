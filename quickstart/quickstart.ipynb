{
 "cells": [
  {
   "cell_type": "markdown",
   "metadata": {},
   "source": [
    "# Compiling Go Source Code"
   ]
  },
  {
   "cell_type": "code",
   "execution_count": 1,
   "metadata": {
    "scrolled": true
   },
   "outputs": [],
   "source": [
    "code = r'''\n",
    "package main\n",
    "\n",
    "import (\n",
    "    \"chain\"\n",
    ")\n",
    "\n",
    "//contract hello\n",
    "type MyContract struct {\n",
    "    Receiver      chain.Name\n",
    "    FirstReceiver chain.Name\n",
    "    Action        chain.Name\n",
    "}\n",
    "\n",
    "func NewContract(receiver, firstReceiver, action chain.Name) *MyContract {\n",
    "    return &MyContract{receiver, firstReceiver, action}\n",
    "}\n",
    "\n",
    "//action sayhello\n",
    "func (c *MyContract) SayHello(name string) {\n",
    "    println(\"Hello\", name)\n",
    "}\n",
    "'''\n",
    "with open('test.go', 'w') as f:\n",
    "    f.write(code)"
   ]
  },
  {
   "cell_type": "code",
   "execution_count": 2,
   "metadata": {},
   "outputs": [
    {
     "data": {
      "text/plain": [
       "['2021/08/26 13:50:45 parse file: test.go',\n",
       " '2021/08/26 13:50:45 ++struct: MyContract',\n",
       " '2021/08/26 13:50:45 +++action sayhello',\n",
       " 'wasm-ld --allow-undefined --stack-first --export-dynamic --no-demangle -zstack-size=8192 -L /Users/newworld/dev/github/tinygo -o /var/folders/pv/678xdw3s56xggsvz36r65kzr0000gp/T/tinygo277563680/main /Users/newworld/dev/github/tinygo/lib/wasi-libc-eosio/sysroot/lib/wasm32-wasi/libc.a /var/folders/pv/678xdw3s56xggsvz36r65kzr0000gp/T/tinygo277563680/main.o']"
      ]
     },
     "execution_count": 2,
     "metadata": {},
     "output_type": "execute_result"
    }
   ],
   "source": [
    "%system eosio-go -o test.wasm test.go"
   ]
  },
  {
   "cell_type": "code",
   "execution_count": 3,
   "metadata": {},
   "outputs": [
    {
     "data": {
      "text/plain": [
       "['-rwxr-xr-x  1 newworld  staff  131 Aug 26 13:50 test.wasm']"
      ]
     },
     "execution_count": 3,
     "metadata": {},
     "output_type": "execute_result"
    }
   ],
   "source": [
    "%system ls -l *.wasm"
   ]
  },
  {
   "cell_type": "code",
   "execution_count": 4,
   "metadata": {},
   "outputs": [
    {
     "data": {
      "text/plain": [
       "['-rw-r--r--  1 newworld  staff  563 Aug 26 13:50 hello.abi']"
      ]
     },
     "execution_count": 4,
     "metadata": {},
     "output_type": "execute_result"
    }
   ],
   "source": [
    "%system ls -l *.abi"
   ]
  },
  {
   "cell_type": "markdown",
   "metadata": {},
   "source": [
    "# Testing"
   ]
  },
  {
   "cell_type": "code",
   "execution_count": 5,
   "metadata": {},
   "outputs": [],
   "source": [
    "import os\n",
    "from uuoskit import uuosapi, wallet, config\n",
    "\n",
    "python_contract = config.python_contract\n",
    "test_account1 = 'helloworld11'\n",
    "test_account2 = 'helloworld12'\n",
    "\n",
    "if os.path.exists('test.wallet'):\n",
    "    os.remove('test.wallet')\n",
    "psw = wallet.create('test')\n",
    "\n",
    "\n",
    "# active key of helloworld11\n",
    "wallet.import_key('test', '5JRYimgLBrRLCBAcjHUWCYRv3asNedTYYzVgmiU4q2ZVxMBiJXL')\n",
    "wallet.import_key('test', '5Jbb4wuwz8MAzTB9FJNmrVYGXo4ABb7wqPVoWGcZ6x8V2FwNeDo')\n",
    "# active key of helloworld12\n",
    "wallet.import_key('test', '5JHRxntHapUryUetZgWdd3cg6BrpZLMJdqhhXnMaZiiT4qdJPhv')\n",
    "\n",
    "config.python_contract = 'hello'\n",
    "config.main_token = 'EOS'\n",
    "config.main_token_contract = 'eosio.token'\n",
    "uuosapi.set_node('https://testnode.uuos.network:8443')"
   ]
  },
  {
   "cell_type": "code",
   "execution_count": 10,
   "metadata": {},
   "outputs": [
    {
     "name": "stdout",
     "output_type": "stream",
     "text": [
      "done!\n"
     ]
    }
   ],
   "source": [
    "code = r'''\n",
    "package main\n",
    "\n",
    "import (\n",
    "    \"chain\"\n",
    ")\n",
    "\n",
    "//contract hello\n",
    "type MyContract struct {\n",
    "    Receiver      chain.Name\n",
    "    FirstReceiver chain.Name\n",
    "    Action        chain.Name\n",
    "}\n",
    "\n",
    "func NewContract(receiver, firstReceiver, action chain.Name) *MyContract {\n",
    "    return &MyContract{receiver, firstReceiver, action}\n",
    "}\n",
    "\n",
    "//action sayhello\n",
    "func (c *MyContract) SayHello(name string) {\n",
    "    println(\"Hello\", name)\n",
    "}\n",
    "'''\n",
    "code, abi = uuosapi.compile('hello', code, src_type=2)\n",
    "print('done!')"
   ]
  },
  {
   "cell_type": "code",
   "execution_count": 11,
   "metadata": {
    "scrolled": true
   },
   "outputs": [
    {
     "name": "stdout",
     "output_type": "stream",
     "text": [
      "done!\n"
     ]
    }
   ],
   "source": [
    "try:\n",
    "    uuosapi.deploy_contract(test_account1, code, abi, vm_type=0)\n",
    "except Exception as e:\n",
    "    print(e.json['error']['what'])\n",
    "print('done!')"
   ]
  },
  {
   "cell_type": "code",
   "execution_count": 12,
   "metadata": {},
   "outputs": [
    {
     "name": "stdout",
     "output_type": "stream",
     "text": [
      "Hello alice\r\n",
      "\n",
      "512\n"
     ]
    }
   ],
   "source": [
    "r = uuosapi.push_action(test_account1, 'sayhello', {'name': 'alice'}, {test_account1:'active'})\n",
    "print(r['processed']['action_traces'][0]['console'])\n",
    "print(r['processed']['elapsed'])"
   ]
  }
 ],
 "metadata": {
  "kernelspec": {
   "display_name": "Python 3",
   "language": "python",
   "name": "python3"
  },
  "language_info": {
   "codemirror_mode": {
    "name": "ipython",
    "version": 3
   },
   "file_extension": ".py",
   "mimetype": "text/x-python",
   "name": "python",
   "nbconvert_exporter": "python",
   "pygments_lexer": "ipython3",
   "version": "3.7.4"
  }
 },
 "nbformat": 4,
 "nbformat_minor": 2
}
