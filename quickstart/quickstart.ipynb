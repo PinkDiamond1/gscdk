{
 "cells": [
  {
   "cell_type": "markdown",
   "metadata": {},
   "source": [
    "# Compiling Go Source Code"
   ]
  },
  {
   "cell_type": "code",
   "execution_count": 1,
   "metadata": {},
   "outputs": [
    {
     "name": "stdout",
     "output_type": "stream",
     "text": [
      "package main\r\n",
      "\r\n",
      "import (\r\n",
      "\t\"github.com/uuosio/chain\"\r\n",
      ")\r\n",
      "\r\n",
      "//contract hello\r\n",
      "type MyContract struct {\r\n",
      "\tReceiver      chain.Name\r\n",
      "\tFirstReceiver chain.Name\r\n",
      "\tAction        chain.Name\r\n",
      "}\r\n",
      "\r\n",
      "func NewContract(receiver, firstReceiver, action chain.Name) *MyContract {\r\n",
      "\treturn &MyContract{receiver, firstReceiver, action}\r\n",
      "}\r\n",
      "\r\n",
      "//action sayhello\r\n",
      "func (c *MyContract) SayHello(name string) {\r\n",
      "\tchain.Println(\"Hello\", name)\r\n",
      "}\r\n"
     ]
    }
   ],
   "source": [
    "!cat test.go"
   ]
  },
  {
   "cell_type": "code",
   "execution_count": 2,
   "metadata": {},
   "outputs": [
    {
     "name": "stdout",
     "output_type": "stream",
     "text": [
      "parse file: test.go\n",
      "++struct: MyContract\n",
      "+++action sayhello\n",
      "wasm-ld --allow-undefined --stack-first --export-dynamic --no-demangle -zstack-size=8192 -L /Library/Frameworks/Python.framework/Versions/3.9/lib/python3.9/site-packages/gscdk/tinygo -o /var/folders/pv/678xdw3s56xggsvz36r65kzr0000gp/T/tinygo3264904622/main /var/folders/pv/678xdw3s56xggsvz36r65kzr0000gp/T/tinygo3264904622/main.o /Library/Frameworks/Python.framework/Versions/3.9/lib/python3.9/site-packages/gscdk/tinygo/lib/wasi-libc-eosio/sysroot/lib/wasm32-wasi/libc.a\n"
     ]
    }
   ],
   "source": [
    "!eosio-go build -o test.wasm ."
   ]
  },
  {
   "cell_type": "code",
   "execution_count": 3,
   "metadata": {},
   "outputs": [
    {
     "name": "stdout",
     "output_type": "stream",
     "text": [
      "-rwxr-xr-x  1 newworld  staff  1835 Oct  9 23:47 \u001b[31mtest.wasm\u001b[m\u001b[m\r\n"
     ]
    }
   ],
   "source": [
    "!ls -l *.wasm"
   ]
  },
  {
   "cell_type": "code",
   "execution_count": 4,
   "metadata": {},
   "outputs": [
    {
     "name": "stdout",
     "output_type": "stream",
     "text": [
      "-rw-r--r--  1 newworld  staff  563 Oct  9 23:47 hello.abi\r\n"
     ]
    }
   ],
   "source": [
    "!ls -l *.abi"
   ]
  },
  {
   "cell_type": "markdown",
   "metadata": {},
   "source": [
    "# Testing"
   ]
  },
  {
   "cell_type": "code",
   "execution_count": 5,
   "metadata": {},
   "outputs": [],
   "source": [
    "import os\n",
    "from pyeoskit import eosapi, wallet, config\n",
    "\n",
    "python_contract = config.python_contract\n",
    "test_account1 = 'helloworld11'\n",
    "test_account2 = 'helloworld12'\n",
    "\n",
    "if os.path.exists('test.wallet'):\n",
    "    os.remove('test.wallet')\n",
    "psw = wallet.create('test')\n",
    "\n",
    "\n",
    "# active key of helloworld11\n",
    "wallet.import_key('test', '5JRYimgLBrRLCBAcjHUWCYRv3asNedTYYzVgmiU4q2ZVxMBiJXL')\n",
    "wallet.import_key('test', '5Jbb4wuwz8MAzTB9FJNmrVYGXo4ABb7wqPVoWGcZ6x8V2FwNeDo')\n",
    "# active key of helloworld12\n",
    "wallet.import_key('test', '5JHRxntHapUryUetZgWdd3cg6BrpZLMJdqhhXnMaZiiT4qdJPhv')\n",
    "\n",
    "config.python_contract = 'hello'\n",
    "config.main_token = 'EOS'\n",
    "config.main_token_contract = 'eosio.token'\n",
    "eosapi.set_node('https://testnode.uuos.network:8443')"
   ]
  },
  {
   "cell_type": "code",
   "execution_count": 6,
   "metadata": {},
   "outputs": [
    {
     "name": "stdout",
     "output_type": "stream",
     "text": [
      "done!\n"
     ]
    }
   ],
   "source": [
    "with open('test.go', 'r') as f:\n",
    "    code = f.read()\n",
    "code, abi = eosapi.compile('hello', code, src_type=2)\n",
    "print('done!')"
   ]
  },
  {
   "cell_type": "code",
   "execution_count": 7,
   "metadata": {
    "scrolled": true
   },
   "outputs": [
    {
     "name": "stdout",
     "output_type": "stream",
     "text": [
      "done!\n"
     ]
    }
   ],
   "source": [
    "try:\n",
    "    eosapi.deploy_contract(test_account1, code, abi, vm_type=0)\n",
    "except Exception as e:\n",
    "    print(e.json['error']['what'])\n",
    "print('done!')"
   ]
  },
  {
   "cell_type": "code",
   "execution_count": 8,
   "metadata": {},
   "outputs": [
    {
     "name": "stdout",
     "output_type": "stream",
     "text": [
      "Hello alice\n",
      "\n",
      "645\n"
     ]
    }
   ],
   "source": [
    "r = eosapi.push_action(test_account1, 'sayhello', {'name': 'alice'}, {test_account1:'active'})\n",
    "print(r['processed']['action_traces'][0]['console'])\n",
    "print(r['processed']['elapsed'])"
   ]
  }
 ],
 "metadata": {
  "kernelspec": {
   "display_name": "Python 3 (ipykernel)",
   "language": "python",
   "name": "python3"
  },
  "language_info": {
   "codemirror_mode": {
    "name": "ipython",
    "version": 3
   },
   "file_extension": ".py",
   "mimetype": "text/x-python",
   "name": "python",
   "nbconvert_exporter": "python",
   "pygments_lexer": "ipython3",
   "version": "3.9.5"
  }
 },
 "nbformat": 4,
 "nbformat_minor": 2
}
